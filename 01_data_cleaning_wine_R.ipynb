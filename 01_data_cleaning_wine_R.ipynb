{
 "cells": [
  {
   "cell_type": "markdown",
   "id": "8c94b6e0-852c-4a14-9b3c-5b009c6010c7",
   "metadata": {},
   "source": [
    "# 1 Project Idea: \n",
    "\n",
    "## Comparative Analysis of Data Cleaning in Python and R\n",
    "\n",
    "\n",
    "## 1.1 Introduction \n",
    "\n",
    "\n",
    "This project explores the red and white wine datasets from the [UCI Machine Learning Repository](https://archive.ics.uci.edu/dataset/186/wine+quality), with a focus on comparative data cleaning and preparation. 1.2.1 Data Sources¶\n",
    "The original datasets used in this project come from the UCI Machine Learning Repository.\n",
    "They were contributed by Paulo Cortez, A. Cerdeira, F. Almeida, T. Matos, and J. Reis, and are distributed under the Creative Commons Attribution 4.0 License.\n",
    "\n",
    "\n",
    "The approach integrates real-world winemaking standards, including EU regulations and OIV guidelines, to ensure chemical plausibility, legal consistency, and contextual insight.\n",
    "\n",
    "The goal is to identify and preserve meaningful variability while removing noise, ultimately producing clean, structured datasets for future modeling or reporting tasks.\n",
    "\n",
    "\n",
    "Emphasizing methodical thinking, attention to detail, and reproducibility, the analysis goes beyond standard statistical thresholds by incorporating chemical plausibility and relevant international benchmarks. Where applicable—particularly for sulfur dioxide, alcohol, and other regulated compounds—thresholds from the International Code of Oenological Practices (OIV) are considered.\n",
    "\n",
    "Scientific insights into the nature of each variable support the cleaning process, without diverting from the main objective: to produce clean, interpretable data suitable for modeling and further analysis.\n",
    "\n",
    "The red and white wine datasets are treated separately to ensure clarity and consistency throughout the workflow.\n",
    "\n",
    "Objectives:\n",
    "\n",
    "* Demonstrate a domain-aware data cleaning process focused on outlier detection and evaluation\n",
    "\n",
    "* Explore the distribution of physicochemical variables across both red and white wines\n",
    "\n",
    "* Identify and visualize potential outliers\n",
    "\n",
    "* Decide whether to remove, retain, or flag each outlier based on context and plausibility\n",
    "\n",
    "* Produce a reproducible, interpretable dataset for downstream analysis\n",
    "\n",
    "* Ensure clarity through structured documentation, visualizations, and transparent code\n",
    "\n",
    "\n",
    "\n",
    "## 1.2 Data Sources and Tools \n",
    "\n",
    "\n",
    "### 1.2.1 Data Sources\n",
    "The original datasets used in this project were obtained from the UCI Machine Learning Repository. The data was contributed by Paulo Cortez, A. Cerdeira, F. Almeida, T. Matos, and J. Reis, and is distributed under the Creative Commons Attribution license.\n",
    "\n",
    "Two datasets are included, corresponding to red and white Vinho Verde wine samples from northern Portugal. Each entry represents a wine sample with 11 physicochemical variables and one quality score based on sensory evaluation. The objective of the original dataset is to model wine quality based on measurable chemical properties.\n",
    "\n",
    "\n",
    "> 🔗 *Further links to notebooks and presentation files will be added here once finalized.*\n",
    "\n",
    "\n",
    "### 1.2.2 Tools and Environment\n",
    "\n",
    "This notebook was developed in R (v4.4.2) using a Jupyter Notebook environment. \n",
    "Initial drafts were occasionally reviewed in Posit Cloud and RStudio Desktop.\n",
    "Key libraries include:\n",
    "\n",
    "- **tidyverse** – data manipulation and visualization\n",
    "\n",
    "- **readxl** – Excel file import\n",
    "\n",
    "- **skimr** – compact data summaries\n",
    "\n",
    "- **here** – reproducible file paths\n",
    "\n",
    "- **janitor** – data cleaning utilities\n",
    "\n",
    "- **conflicted** – function name conflict management\n",
    "\n",
    "\n",
    "All code is designed to be fully reproducible. The data is stored locally with backups maintained on Posit Cloud for accessibility and reliability.\n",
    "\n",
    "### 1.2.3 Reproducibility & Version Control\n",
    "Code and data are versioned and stored securely. \n",
    "\n",
    "### 1.2.4 Comparative Framing: Python vs R for Data Cleaning\n",
    "This analysis is part of a broader project aimed at evaluating the effectiveness of R and Python for real-world data cleaning workflows. The two environments are tested side by side on the same datasets, using consistent logic, criteria, and decision points.\n",
    "\n",
    "By developing a parallel workflow across both languages, this project aims to assess:\n",
    "\n",
    "- the clarity and expressiveness of syntax in each language;\n",
    "\n",
    "- the efficiency and flexibility of standard packages for data manipulation and visualization;\n",
    "\n",
    "- the ability to document, automate, and scale the cleaning process in a reproducible and structured way.\n",
    "\n",
    "Although both languages are highly capable, each has particular strengths depending on the task. This project explores not just which tool is \"better,\" but how each supports strategic thinking and technical transparency in data preparation — a critical phase in any data science or machine learning pipeline.\n",
    "\n",
    "For a mirrored version of this analysis in Python, please refer to the companion notebook:  \n",
    "[Comparative Analysis of R and Python for Data Cleaning – Python Version](#)  \n",
    "*(Link will be updated when hosted publicly)*\n",
    "\n",
    "## 1.3 Contents\n",
    "- [Introduction](#introduction)\n",
    "- [Data Sources and Tools](#data-sources-and-tools)\n",
    "- [Variable Descriptions](#variable-descriptions)\n",
    "- [Data Collection and Preparation](#data-collection-and-preparation)\n",
    "- [Red Wine Analysis](#red-wine-analysis)\n",
    "- [White Wine Analysis](#white-wine-analysis)\n",
    "- [Comparative Decision Table](#comparative-decision-table)\n",
    "- [Final Remarks](#final-remarks--cleaning-outcomes)\n",
    "\n",
    "\n",
    "\n",
    "## 1.4 Variable Descriptions \n",
    "\n",
    "\n",
    "**These definitions apply to both red and white wine datasets.**\n",
    "\n",
    "- **fixed_acidity**: Concentration of tartaric acid (primary acid in grapes), impacts freshness and structure.\n",
    "- **volatile_acidity**: Mainly acetic acid, contributes to aroma but excessive levels lead to vinegary notes.\n",
    "- **citric_acid**: Adds freshness and complexity; can contribute to balance.\n",
    "- **residual_sugar**: Sugar left after fermentation; affects sweetness and body.\n",
    "- **chlorides**: Indicates saltiness, influenced by soil and water; high levels may affect flavor.\n",
    "- **free_sulfur_dioxide**: Active SO₂ available to protect wine from oxidation/microbes.\n",
    "- **total_sulfur_dioxide**: Sum of free and bound SO₂; high levels may affect aroma and require labeling.\n",
    "- **density**: Indicates dissolved substances (sugar, alcohol); helps infer sweetness.\n",
    "- **pH**: Measures acidity/basicity; affects microbial stability and sensory freshness.\n",
    "- **sulphates**: Help prevent microbial spoilage and contribute to mouthfeel.Too much can cause headaches or affect taste.\n",
    "- **alcohol**: Final ethanol concentration (% vol); reflects sugar conversion during fermentation.\n",
    "- **quality**: Sensory evaluation score (integer); subjectively assigned by experts.\n"
   ]
  },
  {
   "cell_type": "code",
   "execution_count": 1,
   "id": "b967ae16-249d-4b96-a616-0aadbd005db9",
   "metadata": {
    "scrolled": true
   },
   "outputs": [
    {
     "name": "stderr",
     "output_type": "stream",
     "text": [
      "Warning message:\n",
      "\"il pacchetto 'tidyverse' è stato creato con R versione 4.4.3\"\n",
      "Warning message:\n",
      "\"il pacchetto 'tidyr' è stato creato con R versione 4.4.3\"\n",
      "── \u001b[1mAttaching core tidyverse packages\u001b[22m ──────────────────────── tidyverse 2.0.0 ──\n",
      "\u001b[32m✔\u001b[39m \u001b[34mdplyr    \u001b[39m 1.1.4     \u001b[32m✔\u001b[39m \u001b[34mreadr    \u001b[39m 2.1.5\n",
      "\u001b[32m✔\u001b[39m \u001b[34mforcats  \u001b[39m 1.0.0     \u001b[32m✔\u001b[39m \u001b[34mstringr  \u001b[39m 1.5.1\n",
      "\u001b[32m✔\u001b[39m \u001b[34mggplot2  \u001b[39m 3.5.1     \u001b[32m✔\u001b[39m \u001b[34mtibble   \u001b[39m 3.2.1\n",
      "\u001b[32m✔\u001b[39m \u001b[34mlubridate\u001b[39m 1.9.4     \u001b[32m✔\u001b[39m \u001b[34mtidyr    \u001b[39m 1.3.1\n",
      "\u001b[32m✔\u001b[39m \u001b[34mpurrr    \u001b[39m 1.0.4     \n",
      "── \u001b[1mConflicts\u001b[22m ────────────────────────────────────────── tidyverse_conflicts() ──\n",
      "\u001b[31m✖\u001b[39m \u001b[34mdplyr\u001b[39m::\u001b[32mfilter()\u001b[39m masks \u001b[34mstats\u001b[39m::filter()\n",
      "\u001b[31m✖\u001b[39m \u001b[34mdplyr\u001b[39m::\u001b[32mlag()\u001b[39m    masks \u001b[34mstats\u001b[39m::lag()\n",
      "\u001b[36mℹ\u001b[39m Use the conflicted package (\u001b[3m\u001b[34m<http://conflicted.r-lib.org/>\u001b[39m\u001b[23m) to force all conflicts to become errors\n",
      "Warning message:\n",
      "\"il pacchetto 'skimr' è stato creato con R versione 4.4.3\"\n",
      "Warning message:\n",
      "\"il pacchetto 'here' è stato creato con R versione 4.4.3\"\n",
      "here() starts at C:/Users/Pc/OneDrive/Formazione/DataScience/Portfolio/wine_project\n",
      "\n",
      "Warning message:\n",
      "\"il pacchetto 'janitor' è stato creato con R versione 4.4.3\"\n",
      "\n",
      "Caricamento pacchetto: 'janitor'\n",
      "\n",
      "\n",
      "I seguenti oggetti sono mascherati da 'package:stats':\n",
      "\n",
      "    chisq.test, fisher.test\n",
      "\n",
      "\n",
      "Warning message:\n",
      "\"il pacchetto 'readxl' è stato creato con R versione 4.4.3\"\n"
     ]
    }
   ],
   "source": [
    "# Import necessary libraries\n",
    "library(tidyverse)  # Essential for data manipulation and visualization, includes packages like ggplot2, dplyr (data manipulation tasks such as filtering rows, selecting columns, and arranging data), and tidyr.\n",
    "library(skimr)      # Provides compact and flexible summaries of data frames.\n",
    "library(here)       # Simplifies path management in R projects by constructing paths relative to the top-level directory.\n",
    "library(janitor)    # Useful for cleaning variable names and other data cleaning tasks.\n",
    "library(conflicted) # Use the conflicted package to manage conflicts\n",
    "library(readxl)"
   ]
  },
  {
   "cell_type": "code",
   "execution_count": 2,
   "id": "98c393fd-c103-4c89-b4f2-25392d4ea0ea",
   "metadata": {},
   "outputs": [],
   "source": [
    "# Set dplyr::filter and dplyr::lag as defaults to avoid conflicts\n",
    "filter <- dplyr::filter\n",
    "lag <- dplyr::lag"
   ]
  },
  {
   "cell_type": "markdown",
   "id": "88053b12-093c-47ae-8085-861488cf9dbe",
   "metadata": {},
   "source": [
    "## 1.5 Data Collection and Preparation \n",
    "\n",
    "\n",
    "### 1.5.1 From Understanding to Preparation\n",
    "\n",
    "The analysis is based on two datasets:\n",
    "- **Red Wine**: 1,599 rows and 12 variables  \n",
    "- **White Wine**: 4,898 rows and 12 variables\n",
    "\n",
    "The variables are identical across both datasets and represent a mix of physicochemical test results and sensory ratings.\n",
    "\n",
    "Initial inspection confirms:\n",
    "- No duplicate records\n",
    "- Clean and consistent variable names (lowercase, snake_case)\n",
    "\n",
    "These characteristics make the datasets ready for structured cleaning and contextual analysis.\n"
   ]
  },
  {
   "cell_type": "code",
   "execution_count": 3,
   "id": "669e6260",
   "metadata": {},
   "outputs": [
    {
     "name": "stderr",
     "output_type": "stream",
     "text": [
      "\u001b[1mRows: \u001b[22m\u001b[34m1599\u001b[39m \u001b[1mColumns: \u001b[22m\u001b[34m12\u001b[39m\n",
      "\u001b[36m──\u001b[39m \u001b[1mColumn specification\u001b[22m \u001b[36m────────────────────────────────────────────────────────\u001b[39m\n",
      "\u001b[1mDelimiter:\u001b[22m \";\"\n",
      "\u001b[32mdbl\u001b[39m (12): fixed acidity, volatile acidity, citric acid, residual sugar, chlo...\n",
      "\n",
      "\u001b[36mℹ\u001b[39m Use `spec()` to retrieve the full column specification for this data.\n",
      "\u001b[36mℹ\u001b[39m Specify the column types or set `show_col_types = FALSE` to quiet this message.\n",
      "\u001b[1mRows: \u001b[22m\u001b[34m4898\u001b[39m \u001b[1mColumns: \u001b[22m\u001b[34m12\u001b[39m\n",
      "\u001b[36m──\u001b[39m \u001b[1mColumn specification\u001b[22m \u001b[36m────────────────────────────────────────────────────────\u001b[39m\n",
      "\u001b[1mDelimiter:\u001b[22m \";\"\n",
      "\u001b[32mdbl\u001b[39m (12): fixed acidity, volatile acidity, citric acid, residual sugar, chlo...\n",
      "\n",
      "\u001b[36mℹ\u001b[39m Use `spec()` to retrieve the full column specification for this data.\n",
      "\u001b[36mℹ\u001b[39m Specify the column types or set `show_col_types = FALSE` to quiet this message.\n"
     ]
    }
   ],
   "source": [
    "# -------------------------------------------------------------\n",
    "#  pH INCIDENT LOG: A true story of data, decimals, and despair\n",
    "# -------------------------------------------------------------\n",
    "# It began with a single number: pH = 33\n",
    "# Was it wine, or nuclear waste? We may never know.\n",
    "\n",
    "# The culprit: read_csv2() + locale mismatch 🇪🇺\n",
    "# The fix: read_delim() + proper decimal interpretation (hallelujah!)\n",
    "\n",
    "# Moral of the story:\n",
    "# Always question your data. Especially when your wine starts burning holes in the plot.\n",
    "# -------------------------------------------------------------\n",
    "\n",
    "\n",
    "red_wine <- read_delim(\n",
    "  \"winequality-red.csv\",\n",
    "  delim = \";\",\n",
    "  locale = locale(decimal_mark = \".\", grouping_mark = \"\")\n",
    ")\n",
    "\n",
    "white_wine <- read_delim(\n",
    "  \"winequality-white.csv\",\n",
    "  delim = \";\",\n",
    "  locale = locale(decimal_mark = \".\", grouping_mark = \"\")\n",
    ")\n"
   ]
  },
  {
   "cell_type": "code",
   "execution_count": 4,
   "id": "f68669ad",
   "metadata": {},
   "outputs": [
    {
     "name": "stdout",
     "output_type": "stream",
     "text": [
      "[1] \"Duplicates in red wine dataset: 240\"\n",
      "[1] \"Duplicates in white wine dataset: 937\"\n"
     ]
    }
   ],
   "source": [
    "# Checking for duplicates\n",
    "print(paste(\"Duplicates in red wine dataset:\", sum(duplicated(red_wine))))\n",
    "print(paste(\"Duplicates in white wine dataset:\", sum(duplicated(white_wine))))\n",
    "\n",
    "# Removing duplicates\n",
    "red_wine <- red_wine %>% distinct()\n",
    "white_wine <- white_wine %>% distinct()\n",
    "\n"
   ]
  },
  {
   "cell_type": "code",
   "execution_count": 5,
   "id": "23511763-6ba0-408d-a037-05a3d3006081",
   "metadata": {},
   "outputs": [
    {
     "data": {
      "text/html": [
       "<table class=\"dataframe\">\n",
       "<caption>A tibble: 6 × 12</caption>\n",
       "<thead>\n",
       "\t<tr><th scope=col>fixed acidity</th><th scope=col>volatile acidity</th><th scope=col>citric acid</th><th scope=col>residual sugar</th><th scope=col>chlorides</th><th scope=col>free sulfur dioxide</th><th scope=col>total sulfur dioxide</th><th scope=col>density</th><th scope=col>pH</th><th scope=col>sulphates</th><th scope=col>alcohol</th><th scope=col>quality</th></tr>\n",
       "\t<tr><th scope=col>&lt;dbl&gt;</th><th scope=col>&lt;dbl&gt;</th><th scope=col>&lt;dbl&gt;</th><th scope=col>&lt;dbl&gt;</th><th scope=col>&lt;dbl&gt;</th><th scope=col>&lt;dbl&gt;</th><th scope=col>&lt;dbl&gt;</th><th scope=col>&lt;dbl&gt;</th><th scope=col>&lt;dbl&gt;</th><th scope=col>&lt;dbl&gt;</th><th scope=col>&lt;dbl&gt;</th><th scope=col>&lt;dbl&gt;</th></tr>\n",
       "</thead>\n",
       "<tbody>\n",
       "\t<tr><td> 7.4</td><td>0.70</td><td>0.00</td><td>1.9</td><td>0.076</td><td>11</td><td>34</td><td>0.9978</td><td>3.51</td><td>0.56</td><td>9.4</td><td>5</td></tr>\n",
       "\t<tr><td> 7.8</td><td>0.88</td><td>0.00</td><td>2.6</td><td>0.098</td><td>25</td><td>67</td><td>0.9968</td><td>3.20</td><td>0.68</td><td>9.8</td><td>5</td></tr>\n",
       "\t<tr><td> 7.8</td><td>0.76</td><td>0.04</td><td>2.3</td><td>0.092</td><td>15</td><td>54</td><td>0.9970</td><td>3.26</td><td>0.65</td><td>9.8</td><td>5</td></tr>\n",
       "\t<tr><td>11.2</td><td>0.28</td><td>0.56</td><td>1.9</td><td>0.075</td><td>17</td><td>60</td><td>0.9980</td><td>3.16</td><td>0.58</td><td>9.8</td><td>6</td></tr>\n",
       "\t<tr><td> 7.4</td><td>0.66</td><td>0.00</td><td>1.8</td><td>0.075</td><td>13</td><td>40</td><td>0.9978</td><td>3.51</td><td>0.56</td><td>9.4</td><td>5</td></tr>\n",
       "\t<tr><td> 7.9</td><td>0.60</td><td>0.06</td><td>1.6</td><td>0.069</td><td>15</td><td>59</td><td>0.9964</td><td>3.30</td><td>0.46</td><td>9.4</td><td>5</td></tr>\n",
       "</tbody>\n",
       "</table>\n"
      ],
      "text/latex": [
       "A tibble: 6 × 12\n",
       "\\begin{tabular}{llllllllllll}\n",
       " fixed acidity & volatile acidity & citric acid & residual sugar & chlorides & free sulfur dioxide & total sulfur dioxide & density & pH & sulphates & alcohol & quality\\\\\n",
       " <dbl> & <dbl> & <dbl> & <dbl> & <dbl> & <dbl> & <dbl> & <dbl> & <dbl> & <dbl> & <dbl> & <dbl>\\\\\n",
       "\\hline\n",
       "\t  7.4 & 0.70 & 0.00 & 1.9 & 0.076 & 11 & 34 & 0.9978 & 3.51 & 0.56 & 9.4 & 5\\\\\n",
       "\t  7.8 & 0.88 & 0.00 & 2.6 & 0.098 & 25 & 67 & 0.9968 & 3.20 & 0.68 & 9.8 & 5\\\\\n",
       "\t  7.8 & 0.76 & 0.04 & 2.3 & 0.092 & 15 & 54 & 0.9970 & 3.26 & 0.65 & 9.8 & 5\\\\\n",
       "\t 11.2 & 0.28 & 0.56 & 1.9 & 0.075 & 17 & 60 & 0.9980 & 3.16 & 0.58 & 9.8 & 6\\\\\n",
       "\t  7.4 & 0.66 & 0.00 & 1.8 & 0.075 & 13 & 40 & 0.9978 & 3.51 & 0.56 & 9.4 & 5\\\\\n",
       "\t  7.9 & 0.60 & 0.06 & 1.6 & 0.069 & 15 & 59 & 0.9964 & 3.30 & 0.46 & 9.4 & 5\\\\\n",
       "\\end{tabular}\n"
      ],
      "text/markdown": [
       "\n",
       "A tibble: 6 × 12\n",
       "\n",
       "| fixed acidity &lt;dbl&gt; | volatile acidity &lt;dbl&gt; | citric acid &lt;dbl&gt; | residual sugar &lt;dbl&gt; | chlorides &lt;dbl&gt; | free sulfur dioxide &lt;dbl&gt; | total sulfur dioxide &lt;dbl&gt; | density &lt;dbl&gt; | pH &lt;dbl&gt; | sulphates &lt;dbl&gt; | alcohol &lt;dbl&gt; | quality &lt;dbl&gt; |\n",
       "|---|---|---|---|---|---|---|---|---|---|---|---|\n",
       "|  7.4 | 0.70 | 0.00 | 1.9 | 0.076 | 11 | 34 | 0.9978 | 3.51 | 0.56 | 9.4 | 5 |\n",
       "|  7.8 | 0.88 | 0.00 | 2.6 | 0.098 | 25 | 67 | 0.9968 | 3.20 | 0.68 | 9.8 | 5 |\n",
       "|  7.8 | 0.76 | 0.04 | 2.3 | 0.092 | 15 | 54 | 0.9970 | 3.26 | 0.65 | 9.8 | 5 |\n",
       "| 11.2 | 0.28 | 0.56 | 1.9 | 0.075 | 17 | 60 | 0.9980 | 3.16 | 0.58 | 9.8 | 6 |\n",
       "|  7.4 | 0.66 | 0.00 | 1.8 | 0.075 | 13 | 40 | 0.9978 | 3.51 | 0.56 | 9.4 | 5 |\n",
       "|  7.9 | 0.60 | 0.06 | 1.6 | 0.069 | 15 | 59 | 0.9964 | 3.30 | 0.46 | 9.4 | 5 |\n",
       "\n"
      ],
      "text/plain": [
       "  fixed acidity volatile acidity citric acid residual sugar chlorides\n",
       "1  7.4          0.70             0.00        1.9            0.076    \n",
       "2  7.8          0.88             0.00        2.6            0.098    \n",
       "3  7.8          0.76             0.04        2.3            0.092    \n",
       "4 11.2          0.28             0.56        1.9            0.075    \n",
       "5  7.4          0.66             0.00        1.8            0.075    \n",
       "6  7.9          0.60             0.06        1.6            0.069    \n",
       "  free sulfur dioxide total sulfur dioxide density pH   sulphates alcohol\n",
       "1 11                  34                   0.9978  3.51 0.56      9.4    \n",
       "2 25                  67                   0.9968  3.20 0.68      9.8    \n",
       "3 15                  54                   0.9970  3.26 0.65      9.8    \n",
       "4 17                  60                   0.9980  3.16 0.58      9.8    \n",
       "5 13                  40                   0.9978  3.51 0.56      9.4    \n",
       "6 15                  59                   0.9964  3.30 0.46      9.4    \n",
       "  quality\n",
       "1 5      \n",
       "2 5      \n",
       "3 5      \n",
       "4 6      \n",
       "5 5      \n",
       "6 5      "
      ]
     },
     "metadata": {},
     "output_type": "display_data"
    },
    {
     "data": {
      "text/html": [
       "<table class=\"dataframe\">\n",
       "<caption>A tibble: 6 × 12</caption>\n",
       "<thead>\n",
       "\t<tr><th scope=col>fixed acidity</th><th scope=col>volatile acidity</th><th scope=col>citric acid</th><th scope=col>residual sugar</th><th scope=col>chlorides</th><th scope=col>free sulfur dioxide</th><th scope=col>total sulfur dioxide</th><th scope=col>density</th><th scope=col>pH</th><th scope=col>sulphates</th><th scope=col>alcohol</th><th scope=col>quality</th></tr>\n",
       "\t<tr><th scope=col>&lt;dbl&gt;</th><th scope=col>&lt;dbl&gt;</th><th scope=col>&lt;dbl&gt;</th><th scope=col>&lt;dbl&gt;</th><th scope=col>&lt;dbl&gt;</th><th scope=col>&lt;dbl&gt;</th><th scope=col>&lt;dbl&gt;</th><th scope=col>&lt;dbl&gt;</th><th scope=col>&lt;dbl&gt;</th><th scope=col>&lt;dbl&gt;</th><th scope=col>&lt;dbl&gt;</th><th scope=col>&lt;dbl&gt;</th></tr>\n",
       "</thead>\n",
       "<tbody>\n",
       "\t<tr><td>7.0</td><td>0.27</td><td>0.36</td><td>20.7</td><td>0.045</td><td>45</td><td>170</td><td>1.0010</td><td>3.00</td><td>0.45</td><td> 8.8</td><td>6</td></tr>\n",
       "\t<tr><td>6.3</td><td>0.30</td><td>0.34</td><td> 1.6</td><td>0.049</td><td>14</td><td>132</td><td>0.9940</td><td>3.30</td><td>0.49</td><td> 9.5</td><td>6</td></tr>\n",
       "\t<tr><td>8.1</td><td>0.28</td><td>0.40</td><td> 6.9</td><td>0.050</td><td>30</td><td> 97</td><td>0.9951</td><td>3.26</td><td>0.44</td><td>10.1</td><td>6</td></tr>\n",
       "\t<tr><td>7.2</td><td>0.23</td><td>0.32</td><td> 8.5</td><td>0.058</td><td>47</td><td>186</td><td>0.9956</td><td>3.19</td><td>0.40</td><td> 9.9</td><td>6</td></tr>\n",
       "\t<tr><td>6.2</td><td>0.32</td><td>0.16</td><td> 7.0</td><td>0.045</td><td>30</td><td>136</td><td>0.9949</td><td>3.18</td><td>0.47</td><td> 9.6</td><td>6</td></tr>\n",
       "\t<tr><td>8.1</td><td>0.22</td><td>0.43</td><td> 1.5</td><td>0.044</td><td>28</td><td>129</td><td>0.9938</td><td>3.22</td><td>0.45</td><td>11.0</td><td>6</td></tr>\n",
       "</tbody>\n",
       "</table>\n"
      ],
      "text/latex": [
       "A tibble: 6 × 12\n",
       "\\begin{tabular}{llllllllllll}\n",
       " fixed acidity & volatile acidity & citric acid & residual sugar & chlorides & free sulfur dioxide & total sulfur dioxide & density & pH & sulphates & alcohol & quality\\\\\n",
       " <dbl> & <dbl> & <dbl> & <dbl> & <dbl> & <dbl> & <dbl> & <dbl> & <dbl> & <dbl> & <dbl> & <dbl>\\\\\n",
       "\\hline\n",
       "\t 7.0 & 0.27 & 0.36 & 20.7 & 0.045 & 45 & 170 & 1.0010 & 3.00 & 0.45 &  8.8 & 6\\\\\n",
       "\t 6.3 & 0.30 & 0.34 &  1.6 & 0.049 & 14 & 132 & 0.9940 & 3.30 & 0.49 &  9.5 & 6\\\\\n",
       "\t 8.1 & 0.28 & 0.40 &  6.9 & 0.050 & 30 &  97 & 0.9951 & 3.26 & 0.44 & 10.1 & 6\\\\\n",
       "\t 7.2 & 0.23 & 0.32 &  8.5 & 0.058 & 47 & 186 & 0.9956 & 3.19 & 0.40 &  9.9 & 6\\\\\n",
       "\t 6.2 & 0.32 & 0.16 &  7.0 & 0.045 & 30 & 136 & 0.9949 & 3.18 & 0.47 &  9.6 & 6\\\\\n",
       "\t 8.1 & 0.22 & 0.43 &  1.5 & 0.044 & 28 & 129 & 0.9938 & 3.22 & 0.45 & 11.0 & 6\\\\\n",
       "\\end{tabular}\n"
      ],
      "text/markdown": [
       "\n",
       "A tibble: 6 × 12\n",
       "\n",
       "| fixed acidity &lt;dbl&gt; | volatile acidity &lt;dbl&gt; | citric acid &lt;dbl&gt; | residual sugar &lt;dbl&gt; | chlorides &lt;dbl&gt; | free sulfur dioxide &lt;dbl&gt; | total sulfur dioxide &lt;dbl&gt; | density &lt;dbl&gt; | pH &lt;dbl&gt; | sulphates &lt;dbl&gt; | alcohol &lt;dbl&gt; | quality &lt;dbl&gt; |\n",
       "|---|---|---|---|---|---|---|---|---|---|---|---|\n",
       "| 7.0 | 0.27 | 0.36 | 20.7 | 0.045 | 45 | 170 | 1.0010 | 3.00 | 0.45 |  8.8 | 6 |\n",
       "| 6.3 | 0.30 | 0.34 |  1.6 | 0.049 | 14 | 132 | 0.9940 | 3.30 | 0.49 |  9.5 | 6 |\n",
       "| 8.1 | 0.28 | 0.40 |  6.9 | 0.050 | 30 |  97 | 0.9951 | 3.26 | 0.44 | 10.1 | 6 |\n",
       "| 7.2 | 0.23 | 0.32 |  8.5 | 0.058 | 47 | 186 | 0.9956 | 3.19 | 0.40 |  9.9 | 6 |\n",
       "| 6.2 | 0.32 | 0.16 |  7.0 | 0.045 | 30 | 136 | 0.9949 | 3.18 | 0.47 |  9.6 | 6 |\n",
       "| 8.1 | 0.22 | 0.43 |  1.5 | 0.044 | 28 | 129 | 0.9938 | 3.22 | 0.45 | 11.0 | 6 |\n",
       "\n"
      ],
      "text/plain": [
       "  fixed acidity volatile acidity citric acid residual sugar chlorides\n",
       "1 7.0           0.27             0.36        20.7           0.045    \n",
       "2 6.3           0.30             0.34         1.6           0.049    \n",
       "3 8.1           0.28             0.40         6.9           0.050    \n",
       "4 7.2           0.23             0.32         8.5           0.058    \n",
       "5 6.2           0.32             0.16         7.0           0.045    \n",
       "6 8.1           0.22             0.43         1.5           0.044    \n",
       "  free sulfur dioxide total sulfur dioxide density pH   sulphates alcohol\n",
       "1 45                  170                  1.0010  3.00 0.45       8.8   \n",
       "2 14                  132                  0.9940  3.30 0.49       9.5   \n",
       "3 30                   97                  0.9951  3.26 0.44      10.1   \n",
       "4 47                  186                  0.9956  3.19 0.40       9.9   \n",
       "5 30                  136                  0.9949  3.18 0.47       9.6   \n",
       "6 28                  129                  0.9938  3.22 0.45      11.0   \n",
       "  quality\n",
       "1 6      \n",
       "2 6      \n",
       "3 6      \n",
       "4 6      \n",
       "5 6      \n",
       "6 6      "
      ]
     },
     "metadata": {},
     "output_type": "display_data"
    }
   ],
   "source": [
    "# Display the first rows of the red and white wine datasets\n",
    "head(red_wine)\n",
    "head(white_wine)"
   ]
  },
  {
   "cell_type": "markdown",
   "id": "51bd7c47-72ba-4edb-82f0-992a9fac2623",
   "metadata": {},
   "source": [
    "* The Red Wine dataset consists in 1599 rows and 12 columns.\n",
    "* The White Wine dataset consists in 4898 rows and 12 columns.\n",
    "* Column names are in common for both datasets.\n",
    "* All data types hold numeric values with decimal points (dbl)."
   ]
  },
  {
   "cell_type": "markdown",
   "id": "7f33ace0-af51-46c5-bd2d-bb870db040f1",
   "metadata": {},
   "source": [
    "### 1.5.2 Data Cleaning Strategy\n",
    "\n",
    "The cleaning process combines statistical methods with contextual and regulatory knowledge to ensure plausibility and consistency.\n",
    "\n",
    "Key steps include:\n",
    "- Defining variable-specific cleaning criteria  \n",
    "- Detecting outliers based on distribution and chemical ranges  \n",
    "- Retaining stylistic variability when scientifically justified  \n",
    "- Removing implausible values according to EU and OIV thresholds  \n",
    "- Comparing red vs. white wine profiles to highlight production differences\n",
    "\n"
   ]
  },
  {
   "cell_type": "code",
   "execution_count": 6,
   "id": "5b70d7da-37a1-4e8e-aa43-8df1cc50780e",
   "metadata": {},
   "outputs": [],
   "source": [
    "# Replace spaces in column names with underscores for consistency\n",
    "colnames(red_wine) = gsub(\" \", \"_\", colnames(red_wine))\n",
    "colnames(white_wine) = gsub(\" \", \"_\", colnames(white_wine))"
   ]
  },
  {
   "cell_type": "code",
   "execution_count": 7,
   "id": "1f83c566-a2d5-48fa-84f4-2f3f68fe77dc",
   "metadata": {},
   "outputs": [
    {
     "data": {
      "text/plain": [
       " fixed_acidity    volatile_acidity  citric_acid     residual_sugar  \n",
       " Min.   : 4.600   Min.   :0.1200   Min.   :0.0000   Min.   : 0.900  \n",
       " 1st Qu.: 7.100   1st Qu.:0.3900   1st Qu.:0.0900   1st Qu.: 1.900  \n",
       " Median : 7.900   Median :0.5200   Median :0.2600   Median : 2.200  \n",
       " Mean   : 8.311   Mean   :0.5295   Mean   :0.2723   Mean   : 2.523  \n",
       " 3rd Qu.: 9.200   3rd Qu.:0.6400   3rd Qu.:0.4300   3rd Qu.: 2.600  \n",
       " Max.   :15.900   Max.   :1.5800   Max.   :1.0000   Max.   :15.500  \n",
       "   chlorides       free_sulfur_dioxide total_sulfur_dioxide    density      \n",
       " Min.   :0.01200   Min.   : 1.00       Min.   :  6.00       Min.   :0.9901  \n",
       " 1st Qu.:0.07000   1st Qu.: 7.00       1st Qu.: 22.00       1st Qu.:0.9956  \n",
       " Median :0.07900   Median :14.00       Median : 38.00       Median :0.9967  \n",
       " Mean   :0.08812   Mean   :15.89       Mean   : 46.83       Mean   :0.9967  \n",
       " 3rd Qu.:0.09100   3rd Qu.:21.00       3rd Qu.: 63.00       3rd Qu.:0.9978  \n",
       " Max.   :0.61100   Max.   :72.00       Max.   :289.00       Max.   :1.0037  \n",
       "       pH         sulphates         alcohol         quality     \n",
       " Min.   :2.74   Min.   :0.3300   Min.   : 8.40   Min.   :3.000  \n",
       " 1st Qu.:3.21   1st Qu.:0.5500   1st Qu.: 9.50   1st Qu.:5.000  \n",
       " Median :3.31   Median :0.6200   Median :10.20   Median :6.000  \n",
       " Mean   :3.31   Mean   :0.6587   Mean   :10.43   Mean   :5.623  \n",
       " 3rd Qu.:3.40   3rd Qu.:0.7300   3rd Qu.:11.10   3rd Qu.:6.000  \n",
       " Max.   :4.01   Max.   :2.0000   Max.   :14.90   Max.   :8.000  "
      ]
     },
     "metadata": {},
     "output_type": "display_data"
    },
    {
     "data": {
      "text/plain": [
       " fixed_acidity    volatile_acidity  citric_acid     residual_sugar  \n",
       " Min.   : 3.800   Min.   :0.0800   Min.   :0.0000   Min.   : 0.600  \n",
       " 1st Qu.: 6.300   1st Qu.:0.2100   1st Qu.:0.2700   1st Qu.: 1.600  \n",
       " Median : 6.800   Median :0.2600   Median :0.3200   Median : 4.700  \n",
       " Mean   : 6.839   Mean   :0.2805   Mean   :0.3343   Mean   : 5.915  \n",
       " 3rd Qu.: 7.300   3rd Qu.:0.3300   3rd Qu.:0.3900   3rd Qu.: 8.900  \n",
       " Max.   :14.200   Max.   :1.1000   Max.   :1.6600   Max.   :65.800  \n",
       "   chlorides       free_sulfur_dioxide total_sulfur_dioxide    density      \n",
       " Min.   :0.00900   Min.   :  2.00      Min.   :  9.0        Min.   :0.9871  \n",
       " 1st Qu.:0.03500   1st Qu.: 23.00      1st Qu.:106.0        1st Qu.:0.9916  \n",
       " Median :0.04200   Median : 33.00      Median :133.0        Median :0.9935  \n",
       " Mean   :0.04591   Mean   : 34.89      Mean   :137.2        Mean   :0.9938  \n",
       " 3rd Qu.:0.05000   3rd Qu.: 45.00      3rd Qu.:166.0        3rd Qu.:0.9957  \n",
       " Max.   :0.34600   Max.   :289.00      Max.   :440.0        Max.   :1.0390  \n",
       "       pH          sulphates         alcohol         quality     \n",
       " Min.   :2.720   Min.   :0.2200   Min.   : 8.00   Min.   :3.000  \n",
       " 1st Qu.:3.090   1st Qu.:0.4100   1st Qu.: 9.50   1st Qu.:5.000  \n",
       " Median :3.180   Median :0.4800   Median :10.40   Median :6.000  \n",
       " Mean   :3.195   Mean   :0.4904   Mean   :10.59   Mean   :5.855  \n",
       " 3rd Qu.:3.290   3rd Qu.:0.5500   3rd Qu.:11.40   3rd Qu.:6.000  \n",
       " Max.   :3.820   Max.   :1.0800   Max.   :14.20   Max.   :9.000  "
      ]
     },
     "metadata": {},
     "output_type": "display_data"
    }
   ],
   "source": [
    "# Summary statistics for red and white wine datasets\n",
    "summary(red_wine)\n",
    "summary(white_wine)"
   ]
  },
  {
   "cell_type": "code",
   "execution_count": 8,
   "id": "6325e568-e05e-48f0-bb39-0a58d9787a14",
   "metadata": {},
   "outputs": [
    {
     "name": "stdout",
     "output_type": "stream",
     "text": [
      "[1] \"Duplicates in red wine dataset: 0\"\n",
      "[1] \"Duplicates in white wine dataset: 0\"\n"
     ]
    }
   ],
   "source": [
    "# Checking for duplicates\n",
    "print(paste(\"Duplicates in red wine dataset:\", sum(duplicated(red_wine))))\n",
    "print(paste(\"Duplicates in white wine dataset:\", sum(duplicated(white_wine))))\n",
    "\n",
    "# Removing duplicates\n",
    "red_wine <- red_wine %>% distinct()\n",
    "white_wine <- white_wine %>% distinct()\n"
   ]
  },
  {
   "cell_type": "code",
   "execution_count": 9,
   "id": "9cd0a924-128c-4698-9cd8-5eebf9118a1c",
   "metadata": {},
   "outputs": [],
   "source": [
    "# remove spaces\n",
    "# library(dplyr)\n",
    "\n",
    "cols_to_clean <- c('fixed_acidity', 'volatile_acidity', 'citric_acid', 'residual_sugar', 'chlorides', 'free_sulfur_dioxide', 'total_sulfur_dioxide', 'density', 'pH', 'sulphates', 'alcohol', 'quality')\n",
    "\n",
    "red_wine <- red_wine %>%\n",
    "  mutate(across(all_of(cols_to_clean), ~ trimws(.)))  \n",
    "\n",
    "white_wine <- white_wine %>%\n",
    "  mutate(across(all_of(cols_to_clean), ~ trimws(.))) \n"
   ]
  },
  {
   "cell_type": "markdown",
   "id": "1b6c9234-a06a-4d03-b361-211ee7591abf",
   "metadata": {},
   "source": [
    "After modifying the names of the columns, several columns were automatically imported as character types, unlike in Python. Therefore, I will need to explicitly convert them to their appropriate data types before proceeding with the analysis."
   ]
  },
  {
   "cell_type": "code",
   "execution_count": 10,
   "id": "f724b0b2-9ac9-44b7-bbcb-c52023079730",
   "metadata": {},
   "outputs": [
    {
     "data": {
      "text/html": [
       "<style>\n",
       ".dl-inline {width: auto; margin:0; padding: 0}\n",
       ".dl-inline>dt, .dl-inline>dd {float: none; width: auto; display: inline-block}\n",
       ".dl-inline>dt::after {content: \":\\0020\"; padding-right: .5ex}\n",
       ".dl-inline>dt:not(:first-of-type) {padding-left: .5ex}\n",
       "</style><dl class=dl-inline><dt>fixed_acidity</dt><dd>'numeric'</dd><dt>volatile_acidity</dt><dd>'numeric'</dd><dt>citric_acid</dt><dd>'numeric'</dd><dt>residual_sugar</dt><dd>'numeric'</dd><dt>chlorides</dt><dd>'numeric'</dd><dt>free_sulfur_dioxide</dt><dd>'numeric'</dd><dt>total_sulfur_dioxide</dt><dd>'numeric'</dd><dt>density</dt><dd>'numeric'</dd><dt>pH</dt><dd>'numeric'</dd><dt>sulphates</dt><dd>'numeric'</dd><dt>alcohol</dt><dd>'numeric'</dd><dt>quality</dt><dd>'numeric'</dd></dl>\n"
      ],
      "text/latex": [
       "\\begin{description*}\n",
       "\\item[fixed\\textbackslash{}\\_acidity] 'numeric'\n",
       "\\item[volatile\\textbackslash{}\\_acidity] 'numeric'\n",
       "\\item[citric\\textbackslash{}\\_acid] 'numeric'\n",
       "\\item[residual\\textbackslash{}\\_sugar] 'numeric'\n",
       "\\item[chlorides] 'numeric'\n",
       "\\item[free\\textbackslash{}\\_sulfur\\textbackslash{}\\_dioxide] 'numeric'\n",
       "\\item[total\\textbackslash{}\\_sulfur\\textbackslash{}\\_dioxide] 'numeric'\n",
       "\\item[density] 'numeric'\n",
       "\\item[pH] 'numeric'\n",
       "\\item[sulphates] 'numeric'\n",
       "\\item[alcohol] 'numeric'\n",
       "\\item[quality] 'numeric'\n",
       "\\end{description*}\n"
      ],
      "text/markdown": [
       "fixed_acidity\n",
       ":   'numeric'volatile_acidity\n",
       ":   'numeric'citric_acid\n",
       ":   'numeric'residual_sugar\n",
       ":   'numeric'chlorides\n",
       ":   'numeric'free_sulfur_dioxide\n",
       ":   'numeric'total_sulfur_dioxide\n",
       ":   'numeric'density\n",
       ":   'numeric'pH\n",
       ":   'numeric'sulphates\n",
       ":   'numeric'alcohol\n",
       ":   'numeric'quality\n",
       ":   'numeric'\n",
       "\n"
      ],
      "text/plain": [
       "       fixed_acidity     volatile_acidity          citric_acid \n",
       "           \"numeric\"            \"numeric\"            \"numeric\" \n",
       "      residual_sugar            chlorides  free_sulfur_dioxide \n",
       "           \"numeric\"            \"numeric\"            \"numeric\" \n",
       "total_sulfur_dioxide              density                   pH \n",
       "           \"numeric\"            \"numeric\"            \"numeric\" \n",
       "           sulphates              alcohol              quality \n",
       "           \"numeric\"            \"numeric\"            \"numeric\" "
      ]
     },
     "metadata": {},
     "output_type": "display_data"
    },
    {
     "data": {
      "text/html": [
       "<style>\n",
       ".dl-inline {width: auto; margin:0; padding: 0}\n",
       ".dl-inline>dt, .dl-inline>dd {float: none; width: auto; display: inline-block}\n",
       ".dl-inline>dt::after {content: \":\\0020\"; padding-right: .5ex}\n",
       ".dl-inline>dt:not(:first-of-type) {padding-left: .5ex}\n",
       "</style><dl class=dl-inline><dt>fixed_acidity</dt><dd>'numeric'</dd><dt>volatile_acidity</dt><dd>'numeric'</dd><dt>citric_acid</dt><dd>'numeric'</dd><dt>residual_sugar</dt><dd>'numeric'</dd><dt>chlorides</dt><dd>'numeric'</dd><dt>free_sulfur_dioxide</dt><dd>'numeric'</dd><dt>total_sulfur_dioxide</dt><dd>'numeric'</dd><dt>density</dt><dd>'numeric'</dd><dt>pH</dt><dd>'numeric'</dd><dt>sulphates</dt><dd>'numeric'</dd><dt>alcohol</dt><dd>'numeric'</dd><dt>quality</dt><dd>'numeric'</dd></dl>\n"
      ],
      "text/latex": [
       "\\begin{description*}\n",
       "\\item[fixed\\textbackslash{}\\_acidity] 'numeric'\n",
       "\\item[volatile\\textbackslash{}\\_acidity] 'numeric'\n",
       "\\item[citric\\textbackslash{}\\_acid] 'numeric'\n",
       "\\item[residual\\textbackslash{}\\_sugar] 'numeric'\n",
       "\\item[chlorides] 'numeric'\n",
       "\\item[free\\textbackslash{}\\_sulfur\\textbackslash{}\\_dioxide] 'numeric'\n",
       "\\item[total\\textbackslash{}\\_sulfur\\textbackslash{}\\_dioxide] 'numeric'\n",
       "\\item[density] 'numeric'\n",
       "\\item[pH] 'numeric'\n",
       "\\item[sulphates] 'numeric'\n",
       "\\item[alcohol] 'numeric'\n",
       "\\item[quality] 'numeric'\n",
       "\\end{description*}\n"
      ],
      "text/markdown": [
       "fixed_acidity\n",
       ":   'numeric'volatile_acidity\n",
       ":   'numeric'citric_acid\n",
       ":   'numeric'residual_sugar\n",
       ":   'numeric'chlorides\n",
       ":   'numeric'free_sulfur_dioxide\n",
       ":   'numeric'total_sulfur_dioxide\n",
       ":   'numeric'density\n",
       ":   'numeric'pH\n",
       ":   'numeric'sulphates\n",
       ":   'numeric'alcohol\n",
       ":   'numeric'quality\n",
       ":   'numeric'\n",
       "\n"
      ],
      "text/plain": [
       "       fixed_acidity     volatile_acidity          citric_acid \n",
       "           \"numeric\"            \"numeric\"            \"numeric\" \n",
       "      residual_sugar            chlorides  free_sulfur_dioxide \n",
       "           \"numeric\"            \"numeric\"            \"numeric\" \n",
       "total_sulfur_dioxide              density                   pH \n",
       "           \"numeric\"            \"numeric\"            \"numeric\" \n",
       "           sulphates              alcohol              quality \n",
       "           \"numeric\"            \"numeric\"            \"numeric\" "
      ]
     },
     "metadata": {},
     "output_type": "display_data"
    }
   ],
   "source": [
    "# Convert columns from character to numeric (if necessary)\n",
    "red_wine <- red_wine %>%\n",
    "  mutate(across(all_of(cols_to_clean), as.numeric))\n",
    "\n",
    "sapply(red_wine, class)\n",
    "\n",
    "white_wine <- white_wine %>%\n",
    "  mutate(across(all_of(cols_to_clean), as.numeric))\n",
    "\n",
    "sapply(white_wine, class)\n"
   ]
  },
  {
   "cell_type": "code",
   "execution_count": null,
   "id": "d5790eb5",
   "metadata": {},
   "outputs": [
    {
     "name": "stderr",
     "output_type": "stream",
     "text": [
      "No missing values detected – no imputation applied.\n",
      "\n"
     ]
    }
   ],
   "source": [
    "# Check for any NA values and apply fallback replacement if needed\n",
    "na_counts <- sapply(red_wine, function(x) sum(is.na(x)))\n",
    "\n",
    "if (any(na_counts > 0)) {\n",
    "  message(\"Missing values detected – applying mean imputation.\")\n",
    "  red_wine_clean <- red_wine %>%\n",
    "    mutate(across(where(is.numeric), ~ ifelse(is.na(.), mean(., na.rm = TRUE), .)))\n",
    "} else {\n",
    "  message(\"No missing values detected – no imputation applied.\")\n",
    "}\n"
   ]
  },
  {
   "cell_type": "markdown",
   "id": "609a5806",
   "metadata": {},
   "source": [
    "**Import and Locale Issues: Lesson Learned**  \n",
    "Although the original UCI Wine Quality datasets are clean and complete, a locale mismatch during CSV import caused significant numerical distortions — notably in the `pH` variable.  \n",
    "Specifically, using `read_csv2()` with default settings interpreted decimal points incorrectly, inflating values by a factor of 10 or 100.  \n",
    "  \n",
    "The issue was resolved by switching to `read_delim()` with an explicit locale:\n",
    "\n",
    "```r\n",
    "read_delim(\"winequality-red.csv\", delim = \";\", locale = locale(decimal_mark = \".\", grouping_mark = \"))\n",
    "\n",
    "\n",
    "```\n",
    "\n",
    "This ensured correct parsing of both separators and decimal values, restoring all numeric fields (including `pH`) to their intended scale.\n"
   ]
  },
  {
   "cell_type": "code",
   "execution_count": null,
   "id": "7b5a9154-41a0-4334-bc53-aefb1d525433",
   "metadata": {},
   "outputs": [],
   "source": [
    "# Load precomputed summary of red wine outliers (from Excel)\n",
    "outlier_summary_red <- readxl::read_xlsx(\"outlier_summary_red.xlsx\")\n",
    "outlier_summary_red\n"
   ]
  },
  {
   "cell_type": "code",
   "execution_count": null,
   "id": "f2eb19c8",
   "metadata": {},
   "outputs": [],
   "source": [
    "# Load precomputed summary of white wine outliers from Excel\n",
    "outlier_summary_white <- read_xlsx(\"outlier_summary_white.xlsx\")\n",
    "outlier_summary_white\n"
   ]
  },
  {
   "cell_type": "code",
   "execution_count": null,
   "id": "3c801716",
   "metadata": {},
   "outputs": [],
   "source": [
    "# Check for negative values in all numeric columns\n",
    "negatives_check <- sapply(red_wine, function(x) any(x < 0, na.rm = TRUE))\n",
    "negatives_check\n"
   ]
  },
  {
   "cell_type": "code",
   "execution_count": null,
   "id": "a674f4f8",
   "metadata": {},
   "outputs": [],
   "source": [
    "# Check for negative values in all numeric columns\n",
    "negatives_check <- sapply(white_wine, function(x) any(x < 0, na.rm = TRUE))\n",
    "negatives_check\n"
   ]
  },
  {
   "cell_type": "markdown",
   "id": "0e46f322",
   "metadata": {},
   "source": [
    "Note: Some of the lower bounds reported in the summary table are negative.  \n",
    "These values were generated as statistical thresholds based on the IQR method (Q1 - 1.5 × IQR),  \n",
    "but they do not reflect actual data points. The dataset itself contains no negative values,  \n",
    "and all variables are consistent with enological and physical expectations."
   ]
  },
  {
   "cell_type": "markdown",
   "id": "2d431648-7664-4a12-879b-f8af01db3b23",
   "metadata": {},
   "source": [
    "We created a reusable function in R to apply regulatory thresholds to the wine datasets. This supports consistency and clarity across multiple variables during data cleaning.\n",
    "\n",
    "Example:\n",
    "- Volatile Acidity → max 1.20 g/dm³\n",
    "- Total SO₂ → max 400 mg/L for sweet wines\n"
   ]
  },
  {
   "cell_type": "code",
   "execution_count": null,
   "id": "843d3137-db47-4eec-90ca-8a90fe76ad4d",
   "metadata": {},
   "outputs": [],
   "source": [
    "# Function to filter rows based on legal minimum and/or maximum values\n",
    "filter_legal_range <- function(df, variable, min_val = NULL, max_val = NULL) {\n",
    "  if (!is.null(min_val) & !is.null(max_val)) {\n",
    "    df <- df[df[[variable]] >= min_val & df[[variable]] <= max_val, ]\n",
    "  } else if (!is.null(min_val)) {\n",
    "    df <- df[df[[variable]] >= min_val, ]\n",
    "  } else if (!is.null(max_val)) {\n",
    "    df <- df[df[[variable]] <= max_val, ]\n",
    "  }\n",
    "  return(df)\n",
    "}\n"
   ]
  },
  {
   "cell_type": "code",
   "execution_count": null,
   "id": "aa535eb9-c6f2-4332-aeca-20a409c52059",
   "metadata": {},
   "outputs": [],
   "source": [
    "# Start with unfiltered red wine dataset\n",
    "red_wine_clean <- filter_legal_range(red_wine, \"fixed_acidity\", min_val = 4.5)\n",
    "\n",
    "# Apply successive filters on red_wine_clean using chemical/legal thresholds\n",
    "red_wine_clean <- filter_legal_range(red_wine_clean, \"volatile_acidity\", max_val = 1.2)\n",
    "red_wine_clean <- filter_legal_range(red_wine_clean, \"citric_acid\", max_val = 1.0)\n",
    "red_wine_clean <- filter_legal_range(red_wine_clean, \"chlorides\", max_val = 2.0)\n",
    "red_wine_clean <- filter_legal_range(red_wine_clean, \"free_sulfur_dioxide\", max_val = 160.0)\n",
    "red_wine_clean <- filter_legal_range(red_wine_clean, \"total_sulfur_dioxide\", max_val = 150.0)\n",
    "red_wine_clean <- filter_legal_range(red_wine_clean, \"sulphates\", max_val = 2.0)\n",
    "red_wine_clean <- filter_legal_range(red_wine_clean, \"alcohol\", max_val = 14.5)\n",
    "red_wine_clean <- filter_legal_range(red_wine_clean, \"alcohol\", min_val = 7.0)"
   ]
  },
  {
   "cell_type": "code",
   "execution_count": null,
   "id": "b95f4f9c",
   "metadata": {},
   "outputs": [],
   "source": [
    "# Apply the same filtering logic used for red_wine to the white_wine dataset, starting from fixed_acidity\n",
    "\n",
    "white_wine_clean <- filter_legal_range(white_wine, \"fixed_acidity\", min_val = 4.5)\n",
    "white_wine_clean <- filter_legal_range(white_wine_clean, \"volatile_acidity\", max_val = 1.2)\n",
    "white_wine_clean <- filter_legal_range(white_wine_clean, \"citric_acid\", max_val = 1.0)\n",
    "white_wine_clean <- filter_legal_range(white_wine_clean, \"chlorides\", max_val = 1.0)\n",
    "white_wine_clean <- filter_legal_range(white_wine_clean, \"free_sulfur_dioxide\", max_val = 160)\n",
    "white_wine_clean <- filter_legal_range(white_wine_clean, \"total_sulfur_dioxide\", max_val = 400)\n",
    "white_wine_clean <- filter_legal_range(white_wine_clean, \"sulphates\", max_val = 2.0)\n",
    "white_wine_clean <- filter_legal_range(white_wine_clean, \"alcohol\", max_val = 14.5)\n",
    "white_wine_clean <- filter_legal_range(white_wine_clean, \"alcohol\", min_val = 7.0)"
   ]
  },
  {
   "cell_type": "code",
   "execution_count": null,
   "id": "f2572a87-ba82-4370-ad5f-ed37db4bc322",
   "metadata": {},
   "outputs": [],
   "source": [
    "# --------------------------------------------------\n",
    "# FUNCTION: Find outliers using the IQR method\n",
    "# --------------------------------------------------\n",
    "find_outliers <- function(x) {\n",
    "  Q1 <- quantile(x, 0.25)\n",
    "  Q3 <- quantile(x, 0.75)\n",
    "  IQR <- Q3 - Q1\n",
    "  \n",
    "  lower_bound <- Q1 - 1.5 * IQR\n",
    "  upper_bound <- Q3 + 1.5 * IQR\n",
    "  \n",
    "  return(x[x < lower_bound | x > upper_bound])\n",
    "}\n",
    "\n",
    "# --------------------------------------------------\n",
    "# TESTING the function one by one\n",
    "# --------------------------------------------------\n",
    "# find_outliers(red_wine_clean$volatile_acidity)\n",
    "\n",
    "# --------------------------------------------------\n",
    "# APPLY the function to all numeric columns\n",
    "# --------------------------------------------------\n",
    "outliers_per_column_red <- lapply(red_wine_clean[sapply(red_wine_clean, is.numeric)], find_outliers)\n",
    "\n",
    "# --------------------------------------------------\n",
    "# COUNT the number of outliers per variable\n",
    "# --------------------------------------------------\n",
    "outlier_counts_red <- sapply(outliers_per_column_red, length)\n",
    "\n",
    "# Create a dataframe for visualization\n",
    "outlier_red_df <- data.frame(\n",
    "  variable = names(outlier_counts_red),\n",
    "  count_red = outlier_counts_red\n",
    ")\n",
    "outlier_red_df\n"
   ]
  },
  {
   "cell_type": "markdown",
   "id": "a586a6fc-b520-483e-9ee5-1a3b2dfbc5c5",
   "metadata": {},
   "source": [
    "# 2 Red Wine Analysis\n",
    "\n"
   ]
  },
  {
   "cell_type": "code",
   "execution_count": null,
   "id": "e411821f-7908-4e57-a88c-d2953c3eef6b",
   "metadata": {},
   "outputs": [],
   "source": [
    "# Barplot showing the number of outliers per numeric variable (red wine)\n",
    "ggplot(outlier_red_df, aes(x = reorder(variable, -count_red), y = count_red)) +\n",
    "    geom_bar(stat = \"identity\", fill = \"darkred\") +\n",
    "    labs(\n",
    "        title = \"Number of Red Wine Outliers per Numeric Variable\",\n",
    "        x = \"Variable\",\n",
    "        y = \"Outlier Count\"\n",
    "    ) +\n",
    "    theme_minimal() +\n",
    "    theme(axis.text.x = element_text(angle = 45, hjust = 1))\n",
    "    \n"
   ]
  },
  {
   "cell_type": "markdown",
   "id": "e5cbf1df-53f4-47a8-b9ea-143ff4b73881",
   "metadata": {},
   "source": [
    "## 2.1 Fixed Acidity\n",
    "\n",
    "**Definition**  \n",
    "Fixed acidity refers to the non-volatile acids in wine, primarily tartaric and malic acid. These acids contribute to freshness, microbial stability, and aging potential. Fixed acidity does not evaporate during fermentation and is a fundamental component of the wine's acid profile.\n",
    "\n",
    "**Summary Statistics**  \n",
    "Values in the dataset range from 1.02 to 1.185 g/L. The distribution is tight, with a median of 1.04 and a 3rd quartile of 1.103. No values exceed the 1.2 g/L threshold often considered chemically implausible.\n",
    "\n",
    "**Visual Inspection**  \n",
    "The next plot helps to identify if high acidity values correspond to lower pH (as expected) or if there are inconsistent values that may indicate errors.\n",
    "\n",
    "**Decision**  \n",
    "All values fall within a chemically plausible range for high-acid white wines from cool climates. No legal thresholds are exceeded.  \n",
    "KEEP\n",
    "\n",
    "---\n",
    "\n",
    "<details>\n",
    "<summary> Additional Notes</summary>\n",
    "\n",
    "- Wine is naturally acidic, with malic and tartaric acid being the most prominent. Fixed acidity is influenced by grape variety, soil composition, and climate.\n",
    "- Grapes grown in potassium-rich soils tend to have higher pH, prompting winemakers to adjust acidity using tartaric acid additions.\n",
    "- Vinho Verde, a cooler-climate region of Portugal, produces grapes with naturally high acidity. For red wines, fixed acidity typically stays below 9.\n",
    "- Although higher values may appear extreme, they align with lower pH levels in the dataset, suggesting chemical consistency.\n",
    "- Due to the absence of metadata (region, grape, vintage), it's unclear whether the extreme values reflect specific wine styles. Only fixed acidity values below 4.5 g/L (threshold based on enological practice) were removed. The remaining observations were retained.\n",
    "\n",
    "</details>\n"
   ]
  },
  {
   "cell_type": "code",
   "execution_count": null,
   "id": "4a554fa5-d3c1-4ceb-8559-6089b0f696fc",
   "metadata": {},
   "outputs": [],
   "source": [
    "# Exploring the relationship between fixed acidity and pH in red wine\n",
    "ggplot(red_wine_clean, aes(x = fixed_acidity, y = pH)) +\n",
    "  geom_point(color = \"darkred\", alpha = 0.6, size = 2) +\n",
    "  geom_smooth(method = \"lm\", se = FALSE, color = \"black\", linetype = \"dashed\") +\n",
    "  geom_vline(xintercept = 4.5, color = \"red\", linetype = \"dotted\") +\n",
    "  labs(\n",
    "    title = \"Relationship between Fixed Acidity and pH in Red Wine\",\n",
    "    x = \"Fixed Acidity\",\n",
    "    y = \"pH\"\n",
    "  ) +\n",
    "  theme_minimal()\n"
   ]
  },
  {
   "cell_type": "code",
   "execution_count": null,
   "id": "f69a6719-fd80-4508-a40f-996a0787582a",
   "metadata": {},
   "outputs": [],
   "source": [
    "# Manually inspecting outliers for fixed_acidity\n",
    "out_fa <- find_outliers(red_wine_clean$fixed_acidity)\n",
    "summary(out_fa)\n",
    "print(out_fa)\n"
   ]
  },
  {
   "cell_type": "code",
   "execution_count": null,
   "id": "7759705d-d020-4962-a7b1-4a59defe1492",
   "metadata": {},
   "outputs": [],
   "source": [
    "# Create the decision table (initially empty)\n",
    "outlier_decisions <- data.frame(\n",
    "  wine_type = character(),      # NEW column: \"red\" or \"white\"\n",
    "  variable = character(),\n",
    "  num_outliers = integer(),\n",
    "  reason = character(),\n",
    "  decision = character(),\n",
    "  stringsAsFactors = FALSE\n",
    ")\n",
    "\n",
    "\n",
    "# Example: Add your first decision (e.g., for volatile.acidity)\n",
    "outlier_decisions <- rbind(outlier_decisions, data.frame(\n",
    "  wine_type = \"red\",\n",
    "  variable = \"fixed_acidity\",\n",
    "  num_outliers = length(find_outliers(red_wine_clean$fixed_acidity)),\n",
    "  reason = \"Legal thresholds were enforced during preprocessing. No further filtering was required.\",\n",
    "  decision = \"KEEP\"\n",
    "))\n",
    "\n",
    "\n",
    "# View the table\n",
    "print(outlier_decisions)\n"
   ]
  },
  {
   "cell_type": "markdown",
   "id": "96273207-133d-4585-923c-81e9f6234e4f",
   "metadata": {},
   "source": [
    "## 2.2 Volatile Acidity\n",
    "\n",
    "**Definition**  \n",
    "Volatile acidity (VA) refers to low molecular weight, steam-distillable acids—primarily acetic acid—that contribute to the aroma profile of wine. While low levels can enhance complexity, high VA is often associated with spoilage and is generally perceived as a vinegar-like aroma.\n",
    "\n",
    "**Summary Statistics**  \n",
    "Values in the red wine dataset range from 1.020 to 1.185 g/L, with a mean of 1.069. These values are unusually high and exceed typical sensory thresholds in most dry red wines. The distribution is narrow but centered well above the 1.0 g/L benchmark.\n",
    "\n",
    "**Visual Inspection**  \n",
    "The boxplot shows the relationship between Volatile Acidity and Quality in Red Wine \n",
    "\n",
    "**Decision**  \n",
    "Only values exceeding the legal limit of 1.2 g/L were removed. All remaining values, though high, were retained due to their potential chemical plausibility and to preserve the natural variation observed in fermentation conditions.  \n",
    "REMOVE above 1.2 g/L, KEEP the rest.\n",
    "\n",
    "---\n",
    "\n",
    "<details>\n",
    "<summary> Additional Notes</summary>\n",
    "    \n",
    "- VA is commonly used as a diagnostic indicator of microbial spoilage. It may arise from damaged fruit or contamination by acetic acid bacteria.\n",
    "- According to industry professionals like Alicia Towns Franken (VP, Archer Roose), VA is often subjective: “A little can be fantastic, but if it’s way out of balance, I find it less enjoyable.”\n",
    "- A weak to moderate negative correlation was observed between VA and quality in the dataset.\n",
    "- VA values above 1.2 g/L are generally considered legally and sensorially unacceptable and were removed accordingly.\n",
    "\n",
    "</details>\n"
   ]
  },
  {
   "cell_type": "code",
   "execution_count": null,
   "id": "61cae182-3382-464c-9eee-9afbd98f5229",
   "metadata": {},
   "outputs": [],
   "source": [
    "# Exploring the relationship between volatile acidity and wine quality\n",
    "ggplot(red_wine_clean, aes(x = volatile_acidity, y = quality)) +\n",
    "  geom_point(color = \"darkred\", alpha = 0.6, size = 2) +\n",
    "  geom_smooth(method = \"lm\", se = FALSE, color = \"black\", linetype = \"dashed\") +\n",
    "  labs(\n",
    "    title = \"Relationship between Volatile Acidity and Quality in Red Wine\",\n",
    "    x = \"Volatile Acidity\",\n",
    "    y = \"Quality\"\n",
    "  ) +\n",
    "  theme_minimal()\n"
   ]
  },
  {
   "cell_type": "code",
   "execution_count": null,
   "id": "3bc2bee8-aa1f-416c-8a13-e0226b2a9dcb",
   "metadata": {},
   "outputs": [],
   "source": [
    "# Manually inspecting outliers for volatile_acidity\n",
    "out_va <- find_outliers(red_wine_clean$volatile_acidity)\n",
    "summary(out_va)\n",
    "print(out_va)\n"
   ]
  },
  {
   "cell_type": "code",
   "execution_count": null,
   "id": "02638118-e995-4913-aec7-8bede6dac56d",
   "metadata": {},
   "outputs": [],
   "source": [
    "# Quantifying the relationship between volatile acidity and quality using Pearson correlation\n",
    "cor(red_wine_clean$volatile_acidity, red_wine_clean$quality, use = \"complete.obs\", method = \"pearson\")\n"
   ]
  },
  {
   "cell_type": "code",
   "execution_count": null,
   "id": "348d3776-439a-4467-b19d-c39e605d2c91",
   "metadata": {},
   "outputs": [],
   "source": [
    "# Box/Violin plot to explore the relationship between volatile acidity and quality\n",
    "ggplot(red_wine_clean, aes(x = factor(quality), y = volatile_acidity)) +\n",
    "  geom_violin(fill = \"firebrick\") +\n",
    "  geom_boxplot(width = 0.1, outlier.size = 0.5) +  # per aggiungere anche un boxplot all'interno\n",
    "  labs(\n",
    "    title = \"Distribtion of Volatile Acidity vs. Quality levels\",\n",
    "    x = \"Quality\",\n",
    "    y = \"Volatile Acidity\"\n",
    "  ) +\n",
    "  theme_minimal()"
   ]
  },
  {
   "cell_type": "code",
   "execution_count": null,
   "id": "cc8f429b-05a0-45a6-8050-8a868d43a25e",
   "metadata": {},
   "outputs": [],
   "source": [
    "# Adding variables funtion to the decision table\n",
    "add_outlier_decision <- function(wine_type, variable, num_outliers, reason, decision) {\n",
    "  new_entry <- data.frame(\n",
    "    wine_type = wine_type,\n",
    "    variable = variable,\n",
    "    num_outliers = num_outliers,\n",
    "    reason = reason,\n",
    "    decision = decision,\n",
    "    stringsAsFactors = FALSE\n",
    "  )\n",
    "  \n",
    "# Adding the decision\n",
    "  assign(\"outlier_decisions\", rbind(outlier_decisions, new_entry), envir = .GlobalEnv)\n",
    "}\n"
   ]
  },
  {
   "cell_type": "code",
   "execution_count": null,
   "id": "12731c16-b04d-4a82-9eb3-483b63464f83",
   "metadata": {},
   "outputs": [],
   "source": [
    "# Trying the funcion\n",
    "add_outlier_decision(\"red\", \"volatile_acidity\", length(find_outliers(red_wine_clean$volatile_acidity)),\n",
    "                    \"Legal thresholds were enforced during preprocessing. No further filtering was required.\", \"KEEP\")\n",
    "\n",
    "# View the table\n",
    "print(outlier_decisions)\n"
   ]
  },
  {
   "cell_type": "markdown",
   "id": "8f6e3503-5505-4855-88d9-a73d1b1f8491",
   "metadata": {},
   "source": [
    "## 2.3 Citric acid\n",
    "\n",
    "\n",
    "**Definition**  \n",
    "Citric acid is a natural component of grapes and contributes to a wine’s freshness, balance, and flavor complexity. It may also influence microbial stability in small concentrations.\n",
    "\n",
    "**Summary Statistics**  \n",
    "Values range from 0.00 to 1.00 g/L, with a median of 0.32 and mean of 0.33. The distribution is symmetric and well-contained within chemically plausible values for dry white wines.\n",
    "\n",
    "**Visual Inspection** \n",
    "The following plots show the relationship between Citric Acid, pH and Quality in Red Wine.\n",
    "\n",
    "**Decision**  \n",
    "All values are chemically consistent with expected fermentation profiles in Vinho Verde wines.\n",
    "KEEP\n",
    "\n",
    "---\n",
    "\n",
    "\n",
    "<details>\n",
    "<summary> Additional Notes</summary>\n",
    "    \n",
    "Citric acid is most commonly used as an acid supplement during the fermentation process to help winemakers boost the acidity of their wine especially grapes grown in warmer climates. Within the EU citric acid can only be used for stabilisation purposes and final citric acid content should not exceed 1g/L.\n",
    "</details>"
   ]
  },
  {
   "cell_type": "code",
   "execution_count": null,
   "id": "4bf00624-7d1c-4f81-b3a6-6201846f0821",
   "metadata": {
    "scrolled": true
   },
   "outputs": [],
   "source": [
    "# Relationship betwwn pH and citric acid\n",
    "ggplot(red_wine_clean, aes(x = pH, y = citric_acid)) +\n",
    "  geom_point(color = \"darkred\", alpha = 0.6, size = 2) +\n",
    "  geom_smooth(method = \"lm\", se = FALSE, color = \"black\", linetype = \"dashed\") +\n",
    "  labs(\n",
    "    title = \"Relationship between Citric Acid and pH in Red Wine\",\n",
    "    x = \"pH\",\n",
    "    y = \"Citric Acid\",\n",
    "  ) +\n",
    "  theme_minimal()"
   ]
  },
  {
   "cell_type": "code",
   "execution_count": null,
   "id": "abb0e4d3",
   "metadata": {},
   "outputs": [],
   "source": [
    "# Correlation coefficient between two numeric variables\n",
    "cor(red_wine_clean$pH, red_wine_clean$citric_acid, use = \"complete.obs\", method = \"pearson\")\n"
   ]
  },
  {
   "cell_type": "markdown",
   "id": "62c8f933",
   "metadata": {},
   "source": [
    "As expected, correlation coefficient value shows a moderate negative correlation betwwn pH and citric acid."
   ]
  },
  {
   "cell_type": "code",
   "execution_count": null,
   "id": "9b4bca39",
   "metadata": {},
   "outputs": [],
   "source": [
    "# Manually inspecting outliers for citric_acid\n",
    "out_va <- find_outliers(red_wine_clean$citric_acid)\n",
    "summary(out_va)\n",
    "print(out_va)"
   ]
  },
  {
   "cell_type": "code",
   "execution_count": null,
   "id": "1da12234-5d03-407d-bb6b-7b8060f7ea90",
   "metadata": {},
   "outputs": [],
   "source": [
    "# Correlation coefficient between quality and citric acid\n",
    "cor(red_wine_clean$citric_acid, red_wine_clean$quality, use = \"complete.obs\", method = \"pearson\")\n"
   ]
  },
  {
   "cell_type": "code",
   "execution_count": null,
   "id": "bf552d9c-2f89-427e-9361-dac4c5af3c33",
   "metadata": {},
   "outputs": [],
   "source": [
    "# The violin plot easily demostrates that total acidity is often associated with the freshness of wine.\n",
    "ggplot(red_wine_clean, aes(x = factor(quality), y = citric_acid)) +\n",
    "  geom_violin(fill = \"firebrick\", alpha = 0.9) +\n",
    "  geom_boxplot(width = 0.1, outlier.size = 0.5, outlier.colour = \"blue\", outlier.shape = 8) +\n",
    "  labs(\n",
    "    title = \"Distribuzione di Citric Acid per Livello di Qualità del Vino\",\n",
    "    x = \"Quality\",\n",
    "    y = \"Citric Acid\"\n",
    "  ) +\n",
    "  theme_minimal()\n"
   ]
  },
  {
   "cell_type": "code",
   "execution_count": null,
   "id": "6fcec39f-5e71-4656-be12-efde09b36378",
   "metadata": {},
   "outputs": [],
   "source": [
    "# Formula for adding variables to the changing list\n",
    "add_outlier_decision(\"red\", \"citric_acid\", length(find_outliers(red_wine_clean$citric_acid)),\n",
    "                    \"Legal thresholds were enforced during preprocessing. No further filtering was required.\", \"KEEP\")\n"
   ]
  },
  {
   "cell_type": "markdown",
   "id": "4ef2a935-0235-4a54-a085-e3313d6c37ca",
   "metadata": {},
   "source": [
    "## 2.4 Residual Sugar\n",
    "\n",
    "\n",
    "**Definition**  \n",
    "Residual sugar (RS) refers to the natural grape sugars remaining in wine after fermentation. RS levels directly influence the wine’s perceived sweetness, and vary considerably depending on style and winemaking intent. There are no legal limits for residual sugar in dry wines.\n",
    "\n",
    "**Summary Statistics**  \n",
    "Values in the red wine dataset range from 3.7 to 15.5 g/L, with a median of 5.1 and a mean of 5.68. Most values fall within the 1–10 g/L range, classifying the wines as \"dry\" according to the general wine dryness scale. A small number of observations exceed 10 g/L.\n",
    "\n",
    "**Visual Inspection**  \n",
    "The next plot shows the distribution of residual sugar in our dataset.\n",
    "\n",
    "**Decision**  \n",
    "No regulatory threshold is exceeded, and outliers above 10 g/L are consistent with known stylistic exceptions within the Vinho Verde classification.  \n",
    "KEEP\n",
    "\n",
    "---\n",
    "\n",
    "<details>\n",
    "<summary> Additional Notes</summary>\n",
    "    \n",
    "- According to the wine dryness scale:\n",
    "  - Dry wines range from 1–10 g/L RS,\n",
    "  - Off-dry wines range from 10–35 g/L,\n",
    "  - Sweet wines exceed 35 g/L.\n",
    "- Vinho Verde reds are generally considered dry, with typical RS levels between 4–6 g/L. The dataset confirms this with a mean of 5.8 g/L.\n",
    "- However, examples such as António Lopes Vinho Tinto (Vidigal Wines) report RS levels of ~13.9 g/L, falling into the off-dry category.\n",
    "- Observations with higher RS also show corresponding density and alcohol values consistent with fermentation dynamics, further supporting their plausibility.\n",
    "\n",
    "</details>\n"
   ]
  },
  {
   "cell_type": "code",
   "execution_count": null,
   "id": "3a4d5990",
   "metadata": {},
   "outputs": [],
   "source": [
    "# Manually inspecting outilers of residual sugar\n",
    "out_va <- find_outliers(red_wine_clean$residual_sugar)\n",
    "summary(out_va)\n",
    "print(out_va)\n"
   ]
  },
  {
   "cell_type": "code",
   "execution_count": null,
   "id": "5fc0c6f2-243a-4d3f-9dee-71216fc18fa6",
   "metadata": {},
   "outputs": [],
   "source": [
    "# Visualazing residual sugar in white wine\n",
    "ggplot(red_wine_clean, aes(x = residual_sugar)) +\n",
    "  geom_bar(fill = \"darkred\") +\n",
    "  labs(\n",
    "    title = \"Presence of Residual Sugar in Red Wine\",\n",
    "    x = \"Residual Sugar\",\n",
    "    y = \"Count\"\n",
    "  ) +\n",
    "  theme_minimal()\n",
    "\n",
    "              "
   ]
  },
  {
   "cell_type": "code",
   "execution_count": null,
   "id": "21c041af-49f2-4f22-a479-f716ab90239e",
   "metadata": {},
   "outputs": [],
   "source": [
    "# Manually inspecting outliers for residual sugar\n",
    "out_va <- find_outliers(red_wine_clean$residual_sugar)\n",
    "summary(out_va)\n",
    "print(out_va)"
   ]
  },
  {
   "cell_type": "code",
   "execution_count": null,
   "id": "cbf89532-1235-45ad-8172-5413cc2e812d",
   "metadata": {},
   "outputs": [],
   "source": [
    "# Showing the number of outliers per numeric variable (red wine)\n",
    "ggplot(red_wine_clean, aes(x = residual_sugar, y = density)) +\n",
    "  geom_point(color = \"darkred\", alpha = 0.6, size = 2) +\n",
    "  geom_smooth(method = \"lm\", se = FALSE, color = \"black\", linetype = \"dashed\") +\n",
    "  labs(\n",
    "    title = \"Relationship between Residual Sugar and Density in Red Wine\",\n",
    "    x = \"Residual Sugar\",\n",
    "    y = \"Density\",\n",
    "  ) +\n",
    "  theme_minimal()"
   ]
  },
  {
   "cell_type": "code",
   "execution_count": null,
   "id": "ea7c3f71",
   "metadata": {},
   "outputs": [],
   "source": [
    "# Manually inspecting outliers for residual sugar\n",
    "out_va <- find_outliers(red_wine$residual_sugar)\n",
    "summary(out_va)\n",
    "print(out_va)\n"
   ]
  },
  {
   "cell_type": "code",
   "execution_count": null,
   "id": "8c1d6761-074d-4fd3-af75-91e7f9d1d436",
   "metadata": {},
   "outputs": [],
   "source": [
    "# Add outlier to the decision table\n",
    "add_outlier_decision(\"red\", \"residual_sugar\", length(find_outliers(red_wine_clean$residual_sugar)),\n",
    "                    \"Plausible values.\", \"KEEP\")\n"
   ]
  },
  {
   "cell_type": "markdown",
   "id": "7bdbc2a8-90f0-4673-af3f-f1aaae782d57",
   "metadata": {},
   "source": [
    "## 2.5 Chlorides\n",
    "\n",
    "**Definition**  \n",
    "Chlorides in wine primarily refer to the concentration of chloride ions (Cl⁻), which contribute to salinity and can influence taste, microbial stability, and chemical reactivity. Chloride levels in wine are mainly determined by environmental factors and winemaking practices.\n",
    "\n",
    "**Summary Statistics**  \n",
    "Chloride values range from 0.012 to 0.611 g/L, with a median of 0.1695 and a mean of 0.2097. All observations fall well below the legal limit of 2.0 g/L.\n",
    "\n",
    "**Visual Inspection**  \n",
    "Next visual shows the presence of chlorides in our vinho verde's red wines.\n",
    "\n",
    "**Decision**  \n",
    "All chloride values are within legal and chemically plausible ranges. No removal necessary.  \n",
    "**Decision**: KEEP\n",
    "\n",
    "---\n",
    "\n",
    "<details>\n",
    "<summary> Additional Notes</summary>\n",
    "    \n",
    "- Several environmental and viticultural factors influence chloride content:\n",
    "  - **Terroir**: Geography, geology, and climate affect absorption.\n",
    "  - **Irrigation**: Saline water can elevate Cl⁻ concentration in grapes.\n",
    "  - **Soil**: Granitic and coastal soils often lead to higher chloride uptake.\n",
    "  - **Varietal sensitivity**: Grapes like Syrah may absorb more chloride.\n",
    "  - **Proximity to the coast**: Coastal vineyards often yield wines with higher chloride content.\n",
    "- Rías Baixas (Spain) and northern coastal Portugal show naturally elevated levels, but values remain far below critical thresholds.\n",
    "\n",
    "</details>\n",
    "\n"
   ]
  },
  {
   "cell_type": "code",
   "execution_count": null,
   "id": "3d345122-9796-4c4b-99aa-b14a7f81b059",
   "metadata": {},
   "outputs": [],
   "source": [
    "# Bar chart for presence of chlorides\n",
    "ggplot(red_wine_clean, aes(x = chlorides)) +\n",
    "  geom_bar(fill = \"darkred\") +\n",
    "  labs(\n",
    "    title = \"Presence of Chlorides in Red Wine\",\n",
    "    x = \"Chlorides\",\n",
    "    y = \"Count\"\n",
    "  ) +\n",
    "  theme_minimal()\n"
   ]
  },
  {
   "cell_type": "code",
   "execution_count": null,
   "id": "e64f3e6d-9b06-48c9-bbf5-3eff836f9724",
   "metadata": {},
   "outputs": [],
   "source": [
    "# Manually inspecting outliers for chlorides\n",
    "out_va <- find_outliers(red_wine_clean$chlorides)\n",
    "summary(out_va)\n"
   ]
  },
  {
   "cell_type": "code",
   "execution_count": null,
   "id": "a8f912e8-21b0-4f89-a5d0-b50953ac3dad",
   "metadata": {},
   "outputs": [],
   "source": [
    "# Add outlier to the decision table\n",
    "add_outlier_decision(\"red\",\"chlorides\", length(find_outliers(red_wine_clean$chlorides)),\n",
    "                    \"Legal thresholds were enforced during preprocessing. No further filtering was required.\", \"KEEP\")\n"
   ]
  },
  {
   "cell_type": "markdown",
   "id": "9865450e-ca39-4fc9-876c-4315a56c1695",
   "metadata": {},
   "source": [
    "## 2.6 Free Sulfur Dioxide\n",
    "\n",
    "\n",
    "**Definition**  \n",
    "Free sulfur dioxide (FSO₂) plays a key role in protecting wine from oxidation and microbial spoilage during production and aging. Its antimicrobial activity is strongly pH-dependent, being more effective at lower pH levels.\n",
    "\n",
    "**Summary Statistics**  \n",
    "Values range from 43.00 to 68.00 mg/L, with a median of 50.00 and a mean of 50.52. All observations fall well below the regulatory threshold of 160 mg/L set for Vinho Verde wines.\n",
    "\n",
    "**Visual Inspection**  \n",
    "The violin + boxplot clearly shows the distribution of free sulfur dioxide in red wine.\n",
    "**Decision**  \n",
    "The dataset was pre-filtered to comply with legal limits. All remaining values are chemically plausible and fall within expected enological ranges.  \n",
    "KEEP\n",
    "\n",
    "---\n",
    "\n",
    "<details>\n",
    "<summary> Additional Notes</summary>\n",
    "\n",
    "- Excessive FSO₂ can mute fruit aromas and contribute to undesirable sensory attributes such as metallic, bitter, or chemical notes.\n",
    "- Wines containing more than 10 mg/L of total sulfur dioxide are required under EU regulations to display “contains sulphites” on the label.\n",
    "- The effectiveness of FSO₂ is influenced by pH: at lower pH levels, a greater proportion exists in the active molecular form.\n",
    "- No outliers were flagged in this dataset after legal thresholds were applied during preprocessing.\n",
    "\n",
    "</details>\n",
    "\n"
   ]
  },
  {
   "cell_type": "code",
   "execution_count": null,
   "id": "c375ae64-ad49-463e-9c26-91be9486e28b",
   "metadata": {
    "scrolled": true
   },
   "outputs": [],
   "source": [
    "# Violin with boxplot for free sulfur dioxide\n",
    "ggplot(red_wine_clean, aes(x = \"\", y = free_sulfur_dioxide)) +\n",
    "  geom_violin(fill = \"darkred\", color = \"black\", alpha = 0.7) +\n",
    "  geom_boxplot(width = 0.1, outlier.color = \"black\", alpha = 0.5) +\n",
    "  labs(\n",
    "    title = \"Distribution of Free Sulfur Dioxide (Violin + Boxplot)\",\n",
    "    x = \"\",\n",
    "    y = \"Free Sulfur Dioxide\"\n",
    "  ) +\n",
    "  theme_minimal()\n"
   ]
  },
  {
   "cell_type": "code",
   "execution_count": null,
   "id": "4e971af8-14c9-454c-9065-5589f02a0df9",
   "metadata": {},
   "outputs": [],
   "source": [
    "# Manually inspecting outliers for free sulfur dioxide\n",
    "out_va <- find_outliers(red_wine_clean$free_sulfur_dioxide)\n",
    "summary(out_va)\n",
    "print(out_va)\n"
   ]
  },
  {
   "cell_type": "code",
   "execution_count": null,
   "id": "c32969cd-da1f-4684-a863-01786f1e92c0",
   "metadata": {},
   "outputs": [],
   "source": [
    "# Violin/ boxplot for the relationship between quality and free sulfur dioxide\n",
    "ggplot(red_wine_clean, aes(x = factor(quality), y = free_sulfur_dioxide)) +\n",
    "  geom_violin(fill = \"firebrick\") +\n",
    "  geom_boxplot(width = 0.1, outlier.size = 1.2, color = 'black') +  # per aggiungere anche un boxplot all'interno\n",
    "  labs(\n",
    "    title = \"Distribtion of Free Sulfur Dioxide vs. Quality levels\",\n",
    "    x = \"quality of Red Wine\",\n",
    "    y = \"Free Sulfur Dioxide\"\n",
    "  ) +\n",
    "  theme_minimal()\n"
   ]
  },
  {
   "cell_type": "code",
   "execution_count": null,
   "id": "d5cad58f-4a6b-4521-bf6b-50dc7e5d2373",
   "metadata": {},
   "outputs": [],
   "source": [
    "# add outlier to the decision table\n",
    "add_outlier_decision(\"red\", \"free_sulfur_dioxide\", length(find_outliers(red_wine_clean$free_sulfur_dioxide)),\n",
    "                    \"Legal thresholds were enforced during preprocessing. No further filtering was required.\", \"KEEP\")\n"
   ]
  },
  {
   "cell_type": "markdown",
   "id": "7f6f4524-d16b-4abd-b731-3ae20eb2f0e2",
   "metadata": {},
   "source": [
    "## 2.7 Total Sulfur Dioxide\n",
    "\n",
    "**Definition**  \n",
    "Total sulfur dioxide (SO₂) includes both free and bound forms of sulfur dioxide. It serves as a preservative and antioxidant in wine, but high concentrations can result in off-flavors and pose regulatory concerns.\n",
    "\n",
    "**Summary Statistics**  \n",
    "Values in the red wine dataset range from 124.0 to 149.0 mg/L, with a median of 135.5 and a mean of 136.7. All values remain under the legal threshold of 150 mg/L for red wines, as defined by the International Code of Oenological Practices.\n",
    "\n",
    "**Visual Inspection**  \n",
    "The next boxplot is perfect to show the distribution and outliers of total sulfur dioxide in our dataset.\n",
    "\n",
    "**Decision**  \n",
    "Outliers exceeding the legal limit of 150 mg/L were removed during preprocessing. The current dataset contains only compliant and chemically plausible values.  \n",
    "KEEP\n",
    "\n",
    "---\n",
    "\n",
    "<details>\n",
    "<summary> Additional Notes</summary>\n",
    "\n",
    "- The OIV (2015/01) defines the following legal limits for total SO₂:\n",
    "  - Red wines: max 150 mg/L  \n",
    "  - White wines: max 200 mg/L  \n",
    "  - Sweet wines: max 400 mg/L\n",
    "- Regulatory filtering was applied before analysis to ensure legal compliance.\n",
    "- Total SO₂ levels are a common concern in export markets and are tightly controlled in EU legislation.\n",
    "\n",
    "</details>\n",
    "\n"
   ]
  },
  {
   "cell_type": "code",
   "execution_count": null,
   "id": "ae70498d-61ba-4213-bbc7-acd4b8adcb27",
   "metadata": {
    "scrolled": true
   },
   "outputs": [],
   "source": [
    "# distribution of total sulfur dioxide\n",
    "boxplot(red_wine_clean$total_sulfur_dioxide, main = \"total_sulfur_dioxide\", col = \"firebrick\", border = \"darkred\")\n"
   ]
  },
  {
   "cell_type": "code",
   "execution_count": null,
   "id": "3276d28d-b485-4d91-acad-b736e24b5e82",
   "metadata": {},
   "outputs": [],
   "source": [
    "# Manually inspecting outliers for total sulfur dioxide\n",
    "out_va <- find_outliers(red_wine_clean$total_sulfur_dioxide)\n",
    "summary(out_va)\n",
    "print(out_va)\n"
   ]
  },
  {
   "cell_type": "code",
   "execution_count": null,
   "id": "d23f6a42-35fe-4650-9cc2-ecf7942a571d",
   "metadata": {},
   "outputs": [],
   "source": [
    "# update the decision table\n",
    "add_outlier_decision(\"red\", \"total_sulfur_dioxide\", length(find_outliers(red_wine_clean$total_sulfur_dioxide)),\n",
    "                    \"Legal thresholds were enforced during preprocessing. No further filtering was required.\", \"KEEP\")\n"
   ]
  },
  {
   "cell_type": "markdown",
   "id": "4b85dead-1513-4838-9cd9-ec18725949b8",
   "metadata": {},
   "source": [
    "## 2.8 Density\n",
    "\n",
    "**Definition**  \n",
    "Density is the mass of a wine per unit volume, expressed in g/cm³. It is influenced by the concentration of dissolved substances, particularly sugars and alcohol, and is often used to monitor fermentation progress.\n",
    "\n",
    "**Summary Statistics**  \n",
    "Values in the dataset initially spanned a wide range. After filtering, all retained observations fall within 0.990 to 1.003 g/cm³, aligning with physically and chemically plausible values for dry red wines.\n",
    "\n",
    "**Visual Inspection**\n",
    "The boxplot shows density's outliers with the limits for the applied filters in our red wine dataset.\n",
    "\n",
    "**Decision**  \n",
    "Observations falling outside the 0.990–1.003 range were removed to ensure the dataset reflects standard winemaking practices.  \n",
    "REMOVE outliers outside 0.990–1.003\n",
    "\n",
    "---\n",
    "\n",
    "<details>\n",
    "<summary> Additional Notes</summary>\n",
    "    \n",
    "- According to Michlovský, typical wine density values range between 0.9912 and 1.0138 g/cm³. \n",
    "- Extreme density values often indicate errors, measurement inconsistencies, or non-standard winemaking conditions.\n",
    "- The filter applied is stricter (0.990–1.003) to match the general profile of red Vinho Verde wines and eliminate potential anomalies.\n",
    "- Density is strongly correlated with residual sugar and alcohol content, and extreme values can distort interpretation of other variables.\n",
    "\n",
    "</details>\n"
   ]
  },
  {
   "cell_type": "code",
   "execution_count": null,
   "id": "2a80e174",
   "metadata": {},
   "outputs": [],
   "source": [
    "# Boxplot for density in red wine\n",
    "boxplot(red_wine_clean$density,\n",
    "        main = \"Density in Red Wine\",\n",
    "        ylab = \"Density (g/cm³)\",\n",
    "        col = \"indianred\",\n",
    "        border = \"black\")\n",
    "abline(h = 0.990, col = \"red\", lty = 2)\n",
    "abline(h = 1.003, col = \"red\", lty = 2)\n"
   ]
  },
  {
   "cell_type": "code",
   "execution_count": null,
   "id": "35ef31e7-a864-4349-b319-c983e6e77184",
   "metadata": {},
   "outputs": [],
   "source": [
    "# Manually inspecting outliers for density\n",
    "find_outliers(red_wine_clean$density)"
   ]
  },
  {
   "cell_type": "code",
   "execution_count": null,
   "id": "d8bb5333-af1f-471c-8795-c646aa3bf979",
   "metadata": {},
   "outputs": [],
   "source": [
    "# removing density outliers\n",
    "red_wine_clean <- filter_legal_range(red_wine_clean, \"density\", min_val = 0.990, max_val = 1.003)"
   ]
  },
  {
   "cell_type": "code",
   "execution_count": null,
   "id": "39f4f6a5-d2d3-4044-b444-b9fbc176232a",
   "metadata": {},
   "outputs": [],
   "source": [
    "#updating the decision table\n",
    "add_outlier_decision (\"red\", \"density\", length(find_outliers(red_wine_clean$density)),\n",
    "                     \"Values out of range.\", \"REMOVE\")\n"
   ]
  },
  {
   "cell_type": "markdown",
   "id": "c6d3ccda-f433-4ee2-b982-deb26662d5c2",
   "metadata": {},
   "source": [
    "## 2.9 pH\n",
    "\n",
    "\n",
    "**Definition**  \n",
    "pH is a measure of the acidity or basicity of a wine, reflecting the balance between free hydrogen ions and buffering compounds such as potassium. It directly influences color, microbial stability, and flavor perception.\n",
    "\n",
    "**Summary Statistics**  \n",
    "Values range from 2.74 to 4.01, with a mean of 3.31 and a median of 3.31. The typical pH range for red wines lies between 3.5 and 3.8, although stylistic and varietal differences can produce wider variation.\n",
    "\n",
    "**Visual Inspection**  \n",
    "Boxplot for pH's outlier visualization in the red wine dataset.\n",
    "\n",
    "**Decision**  \n",
    "Initial filtering excluded values outside the 3.0–4.0 range. However, after deeper review, this was deemed unnecessarily restrictive. All current values fall within the extended plausible range of 2.9 to 4.0 and are therefore retained.  \n",
    "KEEP all current values\n",
    "\n",
    "---\n",
    "\n",
    "<details>\n",
    "<summary> Additional Notes</summary>\n",
    "\n",
    "- Common red wine pH falls between 3.5 and 3.8. Values below 3.0 are uncommon but not chemically impossible, especially in high-acid styles or early fermentation stages.\n",
    "- High pH (>4.0) may compromise stability and color, but can occur naturally under specific winemaking conditions.\n",
    "- Literature and winemaking sources indicate a physiological pH range of 2.9–4.0 as broadly acceptable.\n",
    "- The final decision was based on contextual plausibility, not rigid cutoff points.\n",
    "\n",
    "</details>\n",
    "\n"
   ]
  },
  {
   "cell_type": "code",
   "execution_count": null,
   "id": "745546b3",
   "metadata": {},
   "outputs": [],
   "source": [
    "# Boxplot visualitazion for pH\n",
    "boxplot(red_wine_clean$pH,\n",
    "        main = \"pH in Red Wine\",\n",
    "        ylab = \"pH\",\n",
    "        col = \"darkred\",\n",
    "        border = \"black\")\n",
    "\n",
    "abline(h = 3.0, col = \"red\", lty = 2)\n",
    "abline(h = 4.0, col = \"red\", lty = 2)\n"
   ]
  },
  {
   "cell_type": "code",
   "execution_count": null,
   "id": "0e41846a",
   "metadata": {},
   "outputs": [],
   "source": [
    "out_pH <- find_outliers(red_wine_clean$pH)\n",
    "summary(out_pH)\n",
    "print(out_pH)\n"
   ]
  },
  {
   "cell_type": "code",
   "execution_count": null,
   "id": "8f0f37ad-ab0d-4205-ae76-93ea77fea57a",
   "metadata": {},
   "outputs": [],
   "source": [
    "# Relationship betwwn pH and fixed acidity\n",
    "ggplot(red_wine_clean, aes(x = pH, y = fixed_acidity)) +\n",
    "  geom_point(color = \"darkred\") +\n",
    "  labs(\n",
    "    title = \"Presence of pH in Red Wine\",\n",
    "    x = \"pH\",\n",
    "    y = \"Fixed Acidity\"\n",
    "  ) +\n",
    "  theme_minimal()\n"
   ]
  },
  {
   "cell_type": "code",
   "execution_count": null,
   "id": "b80f7171-03a3-4391-83f7-0cdfab1dcb8c",
   "metadata": {},
   "outputs": [],
   "source": [
    "# summary for pH in red wine\n",
    "summary(red_wine_clean$pH)"
   ]
  },
  {
   "cell_type": "code",
   "execution_count": null,
   "id": "525bec26-2ceb-457b-b886-e9a044b9cb4f",
   "metadata": {},
   "outputs": [],
   "source": [
    "# Manually inspecting outliers for pH\n",
    "find_outliers(red_wine_clean$pH)"
   ]
  },
  {
   "cell_type": "code",
   "execution_count": null,
   "id": "7967fd3a-9a43-46fa-a82d-0158ec07b041",
   "metadata": {},
   "outputs": [],
   "source": [
    "#updating the decision table\n",
    "add_outlier_decision(\"red\",\"pH\", length(find_outliers(red_wine_clean$pH)),\n",
    "                     \"Plausable values.\", \"KEEP\")\n"
   ]
  },
  {
   "cell_type": "markdown",
   "id": "5b073a0b-f79a-49ab-aa55-068f6a887ce6",
   "metadata": {},
   "source": [
    "## 2.10 Sulphates\n",
    "\n",
    "\n",
    "**Definition**  \n",
    "Sulphates (primarily sulfur dioxide compounds, SO₂) are used in winemaking as preservatives to inhibit microbial growth and to stabilize wine during fermentation and aging. They occur naturally in grapes and are often added intentionally.\n",
    "\n",
    "**Summary Statistics**  \n",
    "Values range from 0.33 to 2.00 g/dm³, with a median of 0.62 and a mean of 0.659. While most values fall within typical levels for red wines (generally 0.5–0.8 g/dm³), a small number exceed 1.5.\n",
    "\n",
    "**Visual Inspection**  \n",
    "The next scatter plots shos the relationships between sulphates, alcohol and quality.\n",
    "\n",
    "**Decision**  \n",
    "No filtering was applied. Although a few high values (>1.5) were detected, these observations also showed lower alcohol levels and moderate quality ratings, suggesting they may represent valid low-alcohol blends with increased SO₂ for preservation.  \n",
    "KEEP\n",
    "\n",
    "---\n",
    "\n",
    "<details>\n",
    "<summary> Additional Notes</summary>\n",
    "\n",
    "- Sulphates support yeast activity and microbial stability, especially in low-alcohol wines that may be more prone to spoilage.\n",
    "- Observations with high sulphate levels showed alcohol < 10.5% and quality scores between 5 and 7.\n",
    "- These records may reflect stylistic choices rather than errors or data anomalies.\n",
    "- Legal maximums for total SO₂ (not just sulphates) were applied in the preprocessing phase.\n",
    "\n",
    "</details>\n"
   ]
  },
  {
   "cell_type": "code",
   "execution_count": null,
   "id": "9b4f34df-5883-458e-af30-9a1aaa0cb1eb",
   "metadata": {},
   "outputs": [],
   "source": [
    "# Scatterplot for sulphates vs. alcohol\n",
    "ggplot(red_wine_clean, aes(x = sulphates, y = alcohol)) +\n",
    "  geom_point(color = \"darkred\", alpha = 0.6) +\n",
    "  labs(\n",
    "    title = \"Sulphates vs. Alcohol Content in Red Wine\",\n",
    "    x = \"Sulphates (g/dm³)\",\n",
    "    y = \"Alcohol (% vol)\"\n",
    "  ) +\n",
    "  theme_minimal()\n"
   ]
  },
  {
   "cell_type": "code",
   "execution_count": null,
   "id": "0df41405-21e4-4d82-aa69-57c7200a51a1",
   "metadata": {},
   "outputs": [],
   "source": [
    "# Geom jitter for sulphates vs. quality makes points easier to find.\n",
    "ggplot(red_wine_clean, aes(x = sulphates, y = quality)) +\n",
    "  geom_jitter(color = \"darkred\", width = 0.02, alpha = 0.5) +\n",
    "  labs(\n",
    "    title = \"Sulphates vs. Quality Score\",\n",
    "    x = \"Sulphates (g/dm³)\",\n",
    "    y = \"Quality (0–10)\"\n",
    "  ) +\n",
    "  theme_minimal()\n"
   ]
  },
  {
   "cell_type": "code",
   "execution_count": null,
   "id": "33e37bd5-7598-4de7-8cd7-8d038ab19933",
   "metadata": {},
   "outputs": [],
   "source": [
    "# Manually inspecting outliers for sulphates\n",
    "find_outliers(red_wine_clean$sulphates)\n",
    "\n",
    "# sulphates summary\n",
    "summary(red_wine_clean$sulphates)\n"
   ]
  },
  {
   "cell_type": "code",
   "execution_count": null,
   "id": "6f33e09c-24c4-40a3-ad47-80f59aced78a",
   "metadata": {},
   "outputs": [],
   "source": [
    "# Updating the decision table\n",
    "add_outlier_decision(\"red\", \"sulphates\", length(find_outliers(red_wine_clean$sulphates)),\n",
    "                     \"Legal thresholds were enforced during preprocessing. No further filtering was required.\", \"KEEP\")\n"
   ]
  },
  {
   "cell_type": "markdown",
   "id": "5d1ec9bd-8097-4b4f-8697-3c1ed54b4e7e",
   "metadata": {},
   "source": [
    "## 2.11 Alcohol\n",
    "\n",
    "\n",
    "**Definition**  \n",
    "Alcohol content in wine, expressed as % alcohol by volume (ABV), results from the fermentation of sugars by yeast. It influences mouthfeel, stability, perception of sweetness, and is a critical parameter in wine classification and taxation.\n",
    "\n",
    "**Summary Statistics**  \n",
    "Values range from 8.4% to 14.0% ABV, with a median of 10.15 and a mean of 10.43. Most wines fall between 9% and 12%, reflecting typical alcohol levels for red Vinho Verde wines.\n",
    "\n",
    "**Visual Inspection**  \n",
    "A histogram with a clear distribution of alcohol content in our dataset.\n",
    "\n",
    "**Decision**  \n",
    "Legal limits (7.0–14.5% ABV) were enforced during preprocessing. The current distribution is smooth, continuous, and chemically plausible, with no anomalies near the limits.  \n",
    "KEEP\n",
    "\n",
    "---\n",
    "\n",
    "<details>\n",
    "<summary> Additional Notes</summary>\n",
    "\n",
    "- EU regulations define minimum and maximum ABV thresholds depending on wine-growing zones.\n",
    "- Outlier values (13.6–14.0%) were observed but fall within the acceptable legal and stylistic range for fortified or sun-exposed wines.\n",
    "- The alcohol distribution is unimodal and well-behaved, requiring no further filtering.\n",
    "\n",
    "</details>\n"
   ]
  },
  {
   "cell_type": "code",
   "execution_count": null,
   "id": "16f60e07-de89-4db3-8aab-9698579e8c7c",
   "metadata": {},
   "outputs": [],
   "source": [
    "# Histogram for alcholo distributin\n",
    "hist(red_wine_clean$alcohol,\n",
    "     main = \"Alcohol Distribution in Red Wine\",\n",
    "     xlab = \"Alcohol (% ABV)\",\n",
    "     col = \"firebrick\",\n",
    "     border = \"white\")\n",
    "\n",
    "abline(v = 7.0, col = \"red\", lty = 2)\n",
    "abline(v = 14.5, col = \"red\", lty = 2)\n",
    "\n"
   ]
  },
  {
   "cell_type": "code",
   "execution_count": null,
   "id": "18091b9f-ecdf-44e3-958b-86c85b678dae",
   "metadata": {},
   "outputs": [],
   "source": [
    "# Manually inspecting outliers for alcohol\n",
    "find_outliers(red_wine_clean$alcohol)\n",
    "\n",
    "# summary for alcohol in red wine\n",
    "summary(red_wine_clean$alcohol)\n"
   ]
  },
  {
   "cell_type": "code",
   "execution_count": null,
   "id": "a5684e42-d0a9-40c4-82e0-09acee77c5ee",
   "metadata": {},
   "outputs": [],
   "source": [
    "# Decision table emtry\n",
    "add_outlier_decision(\"red\", \"alcohol\", length(find_outliers(red_wine_clean$alcohol)),\n",
    "                     \"Plausable Values.\", \"KEEP\")\n"
   ]
  },
  {
   "cell_type": "markdown",
   "id": "e4d5d393-f99f-4581-963f-502bf3e8f98e",
   "metadata": {},
   "source": [
    "## 2.12 Quality\n",
    "\n",
    "\n",
    "**Definition**  \n",
    "Quality in wine is a composite measure reflecting sensory, structural, and stylistic elements. While subjective, it is commonly evaluated based on indicators such as complexity, balance, typicity, and finish.\n",
    "\n",
    "**Summary Statistics**  \n",
    "The quality scores in this dataset range from 3 to 8, with a median of 6 and a mean of 5.63. Most values cluster between 5 and 6. No extreme or implausible ratings are present, and the distribution appears unimodal.\n",
    "\n",
    "**Visual Inspection**  \n",
    "Violin + boxplot showing the distribution of quality scores.\n",
    "\n",
    "**Decision**  \n",
    "No outliers were removed from the quality variable. The full range of values appears plausible and useful for evaluating trends and modeling wine performance.  \n",
    "KEEP\n",
    "\n",
    "---\n",
    "\n",
    "<details>\n",
    "<summary> Additional Notes</summary>\n",
    "    \n",
    "**Four Indicators of Wine Quality**\n",
    "\n",
    "1. **Complexity**  \n",
    "   Higher quality wines tend to exhibit multiple flavor layers that evolve over time. Lower quality wines may present only one or two dominant notes with limited persistence.\n",
    "\n",
    "2. **Balance**  \n",
    "   Quality wines demonstrate harmony among acidity, tannins, sweetness, alcohol, and fruit. Even when one component is dominant, overall equilibrium is essential.\n",
    "\n",
    "3. **Typicity**  \n",
    "   This refers to how well a wine reflects the characteristics of its grape variety and region. In Vinho Verde reds, varietals like Alvarelhão and Espadeiro offer elegance and acidity, while Vinhão is bold and rustic, showing deep color and structure.\n",
    "\n",
    "4. **Intensity and Finish**  \n",
    "   Intensity refers to flavor concentration, and finish to how long those flavors linger after swallowing. Wines with longer, structured finishes are generally considered higher in quality.\n",
    "\n",
    "</details>"
   ]
  },
  {
   "cell_type": "code",
   "execution_count": null,
   "id": "732ef7ae-d0b4-4007-b047-30cead2116e3",
   "metadata": {},
   "outputs": [],
   "source": [
    "# Violin + Boxolot for distribution of Quality in red wine\n",
    "ggplot(red_wine_clean, aes(x = \"\", y = quality)) +\n",
    "  geom_violin(fill = \"darkred\", color = \"black\", alpha = 0.9) +\n",
    "  geom_boxplot(width = 0.1, outlier.color = \"black\", alpha = 0.5) +\n",
    "  \n",
    "  # Media e mediana\n",
    "  stat_summary(fun = mean, geom = \"point\", shape = 20, size = 4, color = \"gold\", fill = \"gold\") +\n",
    "  stat_summary(fun = median, geom = \"point\", shape = 18, size = 3, color = \"black\") +\n",
    "\n",
    "  # Annotazioni corrette con annotate()\n",
    "  annotate(\"text\", x = 1, y = min(red_wine_clean$quality), label = paste(\"Min:\", min(red_wine_clean$quality)), \n",
    "           vjust = 1.8, color = \"gray30\", size = 3) +\n",
    "  annotate(\"text\", x = 1, y = max(red_wine_clean$quality), label = paste(\"Max:\", max(red_wine_clean$quality)), \n",
    "           vjust = -0.6, color = \"gray30\", size = 3) +\n",
    "\n",
    "  # Titolo e stile\n",
    "  labs(\n",
    "    title = \"Distribution of Quality in Red Wine (Violin + Boxplot)\",\n",
    "    subtitle = \"Values range from 3 to 8, with a concentration between 5 and 6\",\n",
    "    x = \"\",\n",
    "    y = \"Quality\"\n",
    "  ) +\n",
    "  theme_minimal(base_size = 13) +\n",
    "  theme(\n",
    "    plot.title = element_text(face = \"bold\", size = 14),\n",
    "    plot.subtitle = element_text(size = 11),\n",
    "    axis.text.x = element_blank(),\n",
    "    axis.ticks.x = element_blank()\n",
    "  )\n",
    "\n"
   ]
  },
  {
   "cell_type": "code",
   "execution_count": null,
   "id": "f71966ee-106d-43b5-9de1-29c10f8b6f43",
   "metadata": {},
   "outputs": [],
   "source": [
    "# Manually inspecting outliers for quality\n",
    "find_outliers(red_wine_clean$quality)\n",
    "\n",
    "summary(red_wine_clean$quality)"
   ]
  },
  {
   "cell_type": "code",
   "execution_count": null,
   "id": "9ece8c3d",
   "metadata": {},
   "outputs": [],
   "source": [
    "# Last entry for Red Wine decision table\n",
    "add_outlier_decision(\"red\", \"quality\", length(find_outliers(red_wine_clean$alcohol)),\n",
    "                     \"Subjective aggregate assessment.\", \"KEEP\")"
   ]
  },
  {
   "cell_type": "markdown",
   "id": "2d03283b",
   "metadata": {},
   "source": [
    "## 2.13 Decision Table\n",
    "\n",
    "To support transparency and reproducibility, all decisions related to outlier management and variable filtering were documented systematically in the table below. Each entry includes:\n",
    "\n",
    "- the variable examined  \n",
    "- the number of outliers detected (via IQR or domain-based rules)  \n",
    "- the rationale behind the decision (chemical plausibility, regulation, or stylistic exception)  \n",
    "- the final action taken (KEEP or REMOVE)\n",
    "\n",
    "This table reflects a data-cleaning approach that is not merely rule-based, but context-aware—grounded in domain knowledge from oenology and wine chemistry.\n",
    "\n",
    "> **Note:**  \n",
    "> The table does **not include values that were removed a priori based on legal thresholds** (e.g., total sulfur dioxide, alcohol content). Those filters were enforced during the preprocessing phase to ensure regulatory compliance before outlier exploration."
   ]
  },
  {
   "cell_type": "code",
   "execution_count": null,
   "id": "5ade02dd-0639-4f8f-a416-ad397ad11793",
   "metadata": {},
   "outputs": [],
   "source": [
    "# View the decision table\n",
    "print(outlier_decisions)"
   ]
  },
  {
   "cell_type": "markdown",
   "id": "9ed21737",
   "metadata": {},
   "source": [
    "## 2.14 Conclusion\n",
    "\n",
    "The red wine dataset has been preprocessed and cleaned using a hybrid approach: regulatory filters were applied upfront (e.g., alcohol, SO₂, density), while variable-specific outlier management was guided by statistical exploration and enological reasoning.\n",
    "\n",
    "No values were removed arbitrarily. Decisions were based on plausibility, stylistic context, or documented thresholds. This ensures data integrity while maintaining natural variance in wine composition.\n",
    "\n",
    "The resulting dataset is clean, regulation-compliant, and analytically robust — ready for further modeling or comparative analysis with white wine samples.\n"
   ]
  },
  {
   "cell_type": "markdown",
   "id": "407ef164",
   "metadata": {},
   "source": [
    "# 3 White Wine Analysis\n",
    "\n",
    "This section mirrors the structure applied to red wine data, focusing on the physicochemical variables in white Vinho Verde wines.  \n",
    "As with the red wine dataset, legal limits were enforced during preprocessing.  \n",
    "All remaining observations were explored individually, using visual inspection, chemical reasoning, and domain-specific references to guide the cleaning process.\n",
    "\n",
    "The goal is to ensure the dataset is both scientifically reliable and representative of plausible winemaking conditions before any modeling or interpretation.\n",
    "\n",
    "**Legal Thresholds Applied in Preprocessing**\n",
    "\n",
    "The following legal limits were applied to the white wine dataset during the initial data cleaning phase to ensure compliance with EU/local wine production standards:\n",
    "\n",
    "- **Fixed acidity** : min 4.5\n",
    "- **Volatile acidity**: max 1.2\n",
    "- **Citric acid**: max 1.0\n",
    "- **Chlorides**: max 1.0\n",
    "- **Free SO₂**: max 160 mg/L  \n",
    "- **Total SO₂**:  \n",
    "   - White: max 200 mg/L \n",
    "   - Sweet: max 400 mg/L\n",
    "- **Sulphates**: max 2.0\n",
    "- **Alcohol**: 7.0%–14.5% ABV  \n"
   ]
  },
  {
   "cell_type": "code",
   "execution_count": null,
   "id": "cf3b0321-a32b-456c-8627-9efad6b505bd",
   "metadata": {},
   "outputs": [],
   "source": [
    "# Control check for legal values in white wine\n",
    "check_range <- function(df, var, min_val = NULL, max_val = NULL) {\n",
    "  cat(\"\\n\", var, \"\\n\")\n",
    "  if (!is.null(min_val)) cat(\"  Min check (\", var, \"): \", min(df[[var]]) >= min_val, \"\\n\")\n",
    "  if (!is.null(max_val)) cat(\"  Max check (\", var, \"): \", max(df[[var]]) <= max_val, \"\\n\")\n",
    "}\n",
    "\n",
    "# Controlli\n",
    "check_range(white_wine_clean, \"fixed_acidity\", min_val = 4.5)\n",
    "check_range(white_wine_clean, \"volatile_acidity\", max_val = 1.2)\n",
    "check_range(white_wine_clean, \"citric_acid\", max_val = 1.0)\n",
    "check_range(white_wine_clean, \"chlorides\", max_val = 1.0)\n",
    "check_range(white_wine_clean, \"free_sulfur_dioxide\", max_val = 160)\n",
    "check_range(white_wine_clean, \"total_sulfur_dioxide\", max_val = 400)\n",
    "check_range(white_wine_clean, \"sulphates\", max_val = 2.0)\n",
    "check_range(white_wine_clean, \"alcohol\", min_val = 7.0, max_val = 14.5)\n"
   ]
  },
  {
   "cell_type": "markdown",
   "id": "c45d76a4-e3a3-416f-9846-4af1bcffa969",
   "metadata": {},
   "source": [
    "## 3.1 Fixed Acidity\n",
    "\n",
    "**Definition**  \n",
    "Fixed acidity refers to the concentration of non-volatile acids—mainly tartaric and malic acid—that remain in the wine after fermentation. These acids are essential for freshness, microbial stability, and aging potential.\n",
    "\n",
    "**Summary Statistics**  \n",
    "Values range from 4.50 to 14.20 g/L, with a median of 6.80 and a mean of 6.84. Most observations fall within the expected range for white wines, although a few outliers reach significantly higher values.\n",
    "\n",
    "**Domain Interpretation**  \n",
    "The Vinho Verde region encompasses a wide variety of microclimates and grape types—over 45 authorized varieties—offering a rich palette of winemaking expressions. Since the Portuguese wine industry’s technological transformation in the 1970s and ’80s, it continues to evolve, led by grower-vignerons and innovative, winemaker-driven projects focused on varietal and sub-regional styles.\n",
    "\n",
    "This confluence of maritime and continental influences—with increasingly hotter, drier summers—produces grapes that ripen fully while preserving the region’s hallmark acidity and aromatic freshness. Thanks to its network of rivers and higher elevation zones to the east, cool nighttime temperatures help preserve acidity, even in warmer vintages.\n",
    "\n",
    "As Miguel Queimado (Vale das Ares) notes, “I have one grape. If I want different styles, I need to individuate,” which he achieves through vineyard orientation. His freshest, most structured Alvarinho comes from a north-facing slope, while his entry-level wine—fruitier and higher in alcohol—is sourced from lower, west-facing plots. Even stylistic shifts are underway: malolactic fermentation, once rare, is being explored in earlier-picked wines to soften mouthfeel and balance acidity.\n",
    "\n",
    "**Decision**  \n",
    "Such diversity in climate, technique, and style justifies the presence of high fixed acidity values in our dataset. These outliers likely represent legitimate stylistic choices rather than errors or anomalies.  \n",
    "KEEP\n"
   ]
  },
  {
   "cell_type": "code",
   "execution_count": null,
   "id": "a81388e5-0362-468d-9852-3e344e04263c",
   "metadata": {},
   "outputs": [],
   "source": [
    "# Manually inspecting outliers for fixed acidity\n",
    "out_va <- find_outliers(white_wine_clean$fixed_acidity)\n",
    "summary(out_va)\n",
    "# print(out_va)\n",
    "\n",
    "# Visualization: distribuzione + outliers\n",
    "ggplot(white_wine_clean, aes(x = \"\", y = fixed_acidity)) +\n",
    "  geom_violin(fill = \"gray30\", color = \"black\", alpha = 0.6) +\n",
    "  geom_boxplot(width = 0.1, outlier.colour = \"blue\", outlier.size = 1.5) +\n",
    "  labs(\n",
    "    title = \"Distribuzione di Fixed Acidity nel Vino Bianco\",\n",
    "    x = \"\",\n",
    "    y = \"Fixed Acidity\"\n",
    "  ) +\n",
    "  theme_minimal()\n"
   ]
  },
  {
   "cell_type": "code",
   "execution_count": null,
   "id": "0fe785ce-de2f-4f0a-bdbf-d48707103d6c",
   "metadata": {},
   "outputs": [],
   "source": [
    "# Updating the decision table\n",
    "add_outlier_decision(\"white\", \"fixed_acidity\", length(find_outliers(white_wine_clean$fixed_acidity)),\n",
    "                     \"Legal thresholds were enforced during preprocessing. No further filtering was required.\", \"KEEP\")\n"
   ]
  },
  {
   "cell_type": "markdown",
   "id": "66cf9256-ea39-4150-b80d-7aa9cb09ec62",
   "metadata": {},
   "source": [
    "## 3.2 Volatile Acidity\n",
    "\n",
    "\n",
    "**Definition**  \n",
    "Volatile acidity (VA) expresses the presence of acetic acid and other volatile compounds, primarily produced by yeast metabolism. While low to moderate levels are natural in winemaking, excessive VA can impart vinegar-like aromas and is generally considered a flaw—particularly in white wines.\n",
    "\n",
    "**Summary Statistics**  \n",
    "Values in this dataset range from 0.08 to 1.10 g/L, with a median of 0.26 and a mild right skew. No values exceed the legal threshold of 1.2 g/L.\n",
    "\n",
    "**Domain Interpretation**  \n",
    "Moderate VA values may reflect stylistic variation—such as spontaneous fermentations or artisanal methods influenced by microclimate. These values, while higher than average, are chemically plausible and consistent with known winemaking conditions.\n",
    "\n",
    "**Decision**  \n",
    "No regulatory violation was detected, and the observed variation is consistent with plausible wine styles.  \n",
    "KEEP\n"
   ]
  },
  {
   "cell_type": "code",
   "execution_count": null,
   "id": "0bc1b32d-14f0-45f9-84ae-13acd1b90332",
   "metadata": {},
   "outputs": [],
   "source": [
    "# Investigating volatile acidity with a violin + boxplot\n",
    "ggplot(white_wine_clean, aes(x = \"\", y = volatile_acidity)) +\n",
    "  geom_violin(fill = \"darkseagreen\", color = \"black\", alpha = 0.85) +\n",
    "  geom_boxplot(width = 0.1, outlier.color = \"black\", alpha = 0.4) +\n",
    "  \n",
    "  # Media e mediana\n",
    "  stat_summary(fun = mean, geom = \"point\", shape = 20, size = 4, color = \"gold\") +\n",
    "  stat_summary(fun = median, geom = \"point\", shape = 18, size = 3, color = \"black\") +\n",
    "  \n",
    "  # Annotazioni per min e max\n",
    "  annotate(\"text\", x = 1, y = min(white_wine_clean$volatile_acidity), \n",
    "           label = paste(\"Min:\", min(white_wine_clean$volatile_acidity)), \n",
    "           vjust = 1.8, color = \"gray30\", size = 3) +\n",
    "  annotate(\"text\", x = 1, y = max(white_wine_clean$volatile_acidity), \n",
    "           label = paste(\"Max:\", max(white_wine_clean$volatile_acidity)), \n",
    "           vjust = -0.6, color = \"gray30\", size = 3) +\n",
    "\n",
    "  labs(\n",
    "    title = \"Distribution of Volatile Acidity in White Wine\",\n",
    "    subtitle = \"Values range from 0.08 to 1.10 g/L, with a moderate right skew\",\n",
    "    x = \"\",\n",
    "    y = \"Volatile Acidity (g/L)\"\n",
    "  ) +\n",
    "  theme_minimal(base_size = 13) +\n",
    "  theme(\n",
    "    plot.title = element_text(face = \"bold\"),\n",
    "    plot.subtitle = element_text(size = 11),\n",
    "    axis.text.x = element_blank(),\n",
    "    axis.ticks.x = element_blank()\n",
    "  )\n"
   ]
  },
  {
   "cell_type": "code",
   "execution_count": null,
   "id": "6ce58004-51bd-4881-a524-71e37c1a3b2f",
   "metadata": {},
   "outputs": [],
   "source": [
    "# summary for volatile acidity\n",
    "summary(white_wine_clean$volatile_acidity)     # max_val = 1.2)"
   ]
  },
  {
   "cell_type": "code",
   "execution_count": null,
   "id": "6114eb8d-15d6-48aa-bfb4-817b40527c0f",
   "metadata": {},
   "outputs": [],
   "source": [
    "# White Wine decision table update\n",
    "add_outlier_decision(\"white\", \"volatile_acidity\", length(find_outliers(white_wine_clean$volatile_acidity)),\n",
    "                     \"Legal thresholds were enforced during preprocessing. No further filtering was required.\", \"KEEP\")\n"
   ]
  },
  {
   "cell_type": "markdown",
   "id": "8c55dbd9-b0d9-4e95-9eae-cc36f5e20c0c",
   "metadata": {},
   "source": [
    "## 3.3 Citric Acid\n",
    "\n",
    "**Definition**  \n",
    "Citric acid contributes bright, citrus-like acidity to white wines, enhancing perceived freshness. It occurs naturally in grapes, but may also be introduced during acid adjustment to balance wine structure.\n",
    "\n",
    "**Summary Statistics**  \n",
    "Values in the dataset range from 0.00 to 1.00 g/L, with a median of 0.32 and a mean of 0.334. Most observations fall within a tight interquartile range (0.27–0.39), indicating stylistic consistency.\n",
    "\n",
    "**Domain Interpretation**  \n",
    "Since legal thresholds (≤ 1.0 g/L) were enforced during preprocessing, the remaining values are chemically plausible and compliant. Slightly elevated values may reflect natural variation or deliberate adjustments in specific wine styles.\n",
    "\n",
    "**Decision**  \n",
    "No additional outlier removal was necessary. The current distribution reflects acceptable enological practices.  \n",
    "KEEP\n"
   ]
  },
  {
   "cell_type": "code",
   "execution_count": null,
   "id": "eb591a5f",
   "metadata": {},
   "outputs": [],
   "source": [
    "# a simple boxplot for citric acid\n",
    "boxplot(white_wine_clean$citric_acid,\n",
    "        main = \"Citric Acid in White Wine\",\n",
    "        ylab = \"Citric Acid (g/L)\",\n",
    "        col = \"lightcyan\",\n",
    "        border = \"black\")\n"
   ]
  },
  {
   "cell_type": "code",
   "execution_count": null,
   "id": "d270cb97-4763-462b-bdd9-5500485f6982",
   "metadata": {},
   "outputs": [],
   "source": [
    "# investigating citric acid\n",
    "summary(white_wine_clean$citric_acid)     # max ≤ 1.0"
   ]
  },
  {
   "cell_type": "code",
   "execution_count": null,
   "id": "a8349f83-1ee7-4ff9-b59c-f00190e57c19",
   "metadata": {},
   "outputs": [],
   "source": [
    "# Manually inspecting outliers for citric acid\n",
    "add_outlier_decision(\"white\", \"citric_acid\", length(find_outliers(white_wine_clean$citric_acid)),\n",
    "                     \"Legal thresholds were enforced during preprocessing. No further filtering was required.\",\n",
    "                     \"KEEP\")\n"
   ]
  },
  {
   "cell_type": "markdown",
   "id": "f2c70204-0816-412c-a37b-c8c14d9b7ed0",
   "metadata": {},
   "source": [
    "## 3.4 Residual Sugar\n",
    "\n",
    "**Definition**  \n",
    "Residual sugar (RS) refers to the amount of sugar remaining in wine after fermentation. While dry white wines typically contain ≤ 4 g/L, sweet wine styles—such as late harvest or botrytized wines—can exceed 45 g/L.\n",
    "\n",
    "**Summary Statistics**  \n",
    "Values range from 0.60 to 65.80 g/L, with a median of 4.70 and a right-skewed distribution. Some entries were initially flagged as outliers based on statistical thresholds.\n",
    "\n",
    "**Multivariate Interpretation**  \n",
    "A scatterplot of residual sugar versus volatile acidity revealed that high sugar levels are not associated with elevated volatility—suggesting chemical stability. Additionally, samples with high residual sugar often had:\n",
    "- Alcohol content < 10%\n",
    "- Density > 1.038\n",
    "\n",
    "These profiles are consistent with known sweet wine styles and do not indicate data entry errors.\n",
    "\n",
    "**Decision History**  \n",
    "Initially, extreme values were removed based on presumed implausibility. After multivariate review, several were reinstated due to their coherence with legitimate sweet wine characteristics.\n",
    "\n",
    "**Decision**  \n",
    "No legal thresholds apply to residual sugar in this context. Given the chemical plausibility of these observations, all valid entries have been retained.  \n",
    "KEEP\n"
   ]
  },
  {
   "cell_type": "code",
   "execution_count": null,
   "id": "dc104ab9-c552-45d3-a613-a5c688af6a81",
   "metadata": {},
   "outputs": [],
   "source": [
    "# Violuin + Boxplot for distribution of residual sugar in white wine\n",
    "ggplot(white_wine_clean, aes(x = \"\", y = residual_sugar)) +\n",
    "  geom_violin(fill = \"moccasin\", color = \"black\", alpha = 0.85) +\n",
    "  geom_boxplot(width = 0.1, outlier.color = \"black\", alpha = 0.4) +\n",
    "  \n",
    "  # Media e mediana\n",
    "  stat_summary(fun = mean, geom = \"point\", shape = 20, size = 4, color = \"gold\") +\n",
    "  stat_summary(fun = median, geom = \"point\", shape = 18, size = 3, color = \"black\") +\n",
    "  \n",
    "  # Annotazioni\n",
    "  annotate(\"text\", x = 1, y = min(white_wine_clean$residual_sugar), \n",
    "           label = paste(\"Min:\", min(white_wine_clean$residual_sugar)), \n",
    "           vjust = 1.8, color = \"gray30\", size = 3) +\n",
    "  annotate(\"text\", x = 1, y = max(white_wine_clean$residual_sugar), \n",
    "           label = paste(\"Max:\", max(white_wine_clean$residual_sugar)), \n",
    "           vjust = -0.6, color = \"gray30\", size = 3) +\n",
    "\n",
    "  labs(\n",
    "    title = \"Distribution of Residual Sugar in White Wine\",\n",
    "    subtitle = \"Statistical outliers may correspond to sweet wine styles\",\n",
    "    x = \"\",\n",
    "    y = \"Residual Sugar (g/L)\"\n",
    "  ) +\n",
    "  theme_minimal(base_size = 13) +\n",
    "  theme(\n",
    "    plot.title = element_text(face = \"bold\"),\n",
    "    plot.subtitle = element_text(size = 11),\n",
    "    axis.text.x = element_blank(),\n",
    "    axis.ticks.x = element_blank()\n",
    "  )\n"
   ]
  },
  {
   "cell_type": "code",
   "execution_count": null,
   "id": "d5006f2a-98e1-4d4f-8ef9-c2f66a936a50",
   "metadata": {},
   "outputs": [],
   "source": [
    "# A look for residual sugar\n",
    "summary(white_wine_clean$residual_sugar)\n"
   ]
  },
  {
   "cell_type": "code",
   "execution_count": null,
   "id": "491a5d40-ccc9-42a9-8f5a-0ce318dd923d",
   "metadata": {},
   "outputs": [],
   "source": [
    "# Finding extreme outliers in residual sugar\n",
    "extreme_rs <- white_wine_clean %>% filter(residual_sugar == max(residual_sugar))\n",
    "\n",
    "# Finding every variable for that observation\n",
    "glimpse(extreme_rs)\n"
   ]
  },
  {
   "cell_type": "code",
   "execution_count": null,
   "id": "8e61babd-6e85-4774-89e2-f09f220d017a",
   "metadata": {},
   "outputs": [],
   "source": [
    "# Scatterplot for residual sugar vs. density in white wine\n",
    "ggplot(white_wine_clean, aes(x = residual_sugar, y = density)) +\n",
    "  geom_point(alpha = 0.8, color = \"azure4\", size = 2) +\n",
    "  geom_smooth(method = \"lm\", se = FALSE, color = \"black\", linetype = \"dashed\") +\n",
    "  labs(\n",
    "    title = \"Residual Sugar vs Density in White Wine\",\n",
    "    subtitle = \"Higher sugar content is associated with higher density — including sweet styles\",\n",
    "    x = \"Residual Sugar (g/L)\",\n",
    "    y = \"Density\"\n",
    "  ) +\n",
    "  theme_minimal(base_size = 13)\n"
   ]
  },
  {
   "cell_type": "code",
   "execution_count": null,
   "id": "eeb43451-8d2e-44a8-86fa-a67622440831",
   "metadata": {},
   "outputs": [],
   "source": [
    "# Scatterplot for residual sugar vs. volatile_acidity in white wine\n",
    "ggplot(white_wine_clean, aes(x = residual_sugar, y = volatile_acidity)) +\n",
    "  geom_point(alpha = 0.6, color = \"darkorange\", size = 2) +\n",
    "  geom_smooth(method = \"loess\", se = FALSE, color = \"black\", linetype = \"dotted\") +\n",
    "  labs(\n",
    "    title = \"Residual Sugar vs Volatile Acidity in White Wine\",\n",
    "    subtitle = \"Volatile acidity remains moderate even in high sugar samples\",\n",
    "    x = \"Residual Sugar (g/L)\",\n",
    "    y = \"Volatile Acidity (g/L)\"\n",
    "  ) +\n",
    "  theme_minimal(base_size = 13)\n"
   ]
  },
  {
   "cell_type": "code",
   "execution_count": null,
   "id": "cf5a2459-1672-4fbc-96f6-4895845f4259",
   "metadata": {},
   "outputs": [],
   "source": [
    "# Updating the decision table\n",
    "add_outlier_decision(\"white\", \"residual_sugar\", length(find_outliers(white_wine_clean$residual_sugar)),\n",
    "                     \"Extreme but plausible values.\",\n",
    "                     \"KEEP\")"
   ]
  },
  {
   "cell_type": "markdown",
   "id": "34f67967-f855-44b9-be14-242c2adb647c",
   "metadata": {},
   "source": [
    "## 3.5 Chlorides\n",
    "\n",
    "**Definition**  \n",
    "Chloride ions in wine are primarily associated with the presence of sodium chloride (NaCl). While small amounts can enhance complexity, excessive chloride can lead to perceptible saltiness and negatively impact the wine’s balance.\n",
    "\n",
    "**Summary Statistics**  \n",
    "Values in the dataset range from 0.009 to 0.346 g/L (9–346 mg/L), with most values below 0.16 g/L. The distribution is moderately right-skewed.\n",
    "\n",
    "**Domain Interpretation**  \n",
    "Although no legal limit strictly applies, values above 1.0 g/L were removed during preprocessing as a precautionary measure. All remaining values fall well below the common guideline of 500 mg/L cited in enological references.\n",
    "\n",
    "Environmental factors—particularly soil type and proximity to the coast—can influence chloride content. Coastal vineyards are especially prone to elevated levels due to sea spray and saline soils. The distribution observed is therefore plausible and not considered anomalous.\n",
    "\n",
    "**Decision**  \n",
    "All retained observations are chemically reasonable and consistent with expected environmental variability.  \n",
    "KEEP\n"
   ]
  },
  {
   "cell_type": "code",
   "execution_count": null,
   "id": "e8db9539-b2c9-45b9-be47-c2aa894b5733",
   "metadata": {},
   "outputs": [],
   "source": [
    "# Combina i dataset con etichetta\n",
    "red_labeled <- red_wine_clean %>% mutate(wine_type = \"Red\")\n",
    "white_labeled <- white_wine_clean %>% mutate(wine_type = \"White\")\n",
    "combined_wines <- bind_rows(red_labeled, white_labeled)\n",
    "\n",
    "# Boxplot comparativo\n",
    "ggplot(combined_wines, aes(x = wine_type, y = chlorides, fill = wine_type)) +\n",
    "  geom_boxplot(alpha = 0.7, outlier.color = \"black\", width = 0.5) +\n",
    "  scale_fill_manual(values = c(\"Red\" = \"firebrick\", \"White\" = \"darkseagreen\")) +\n",
    "  labs(\n",
    "    title = \"Comparison of Chlorides in Red vs White Wine\",\n",
    "    subtitle = \"Higher levels in red wines reflect skin contact during fermentation\",\n",
    "    x = \"Wine Type\",\n",
    "    y = \"Chlorides (g/L)\"\n",
    "  ) +\n",
    "  theme_minimal(base_size = 13) +\n",
    "  theme(\n",
    "    plot.title = element_text(face = \"bold\"),\n",
    "    legend.position = \"none\"\n",
    "  ) +\n",
    "  annotate(\"text\", x = 1.5, y = 0.4, \n",
    "         label = \"Red wine → higher chloride from skin contact\",\n",
    "         size = 3.5, color = \"gray30\", hjust = 0.4)\n",
    "\n",
    "\n"
   ]
  },
  {
   "cell_type": "markdown",
   "id": "ef45d6d2-27f1-4b8a-8e9a-8634698dd853",
   "metadata": {},
   "source": [
    "**Contextual Note for Chlorides Comparison Plot**\n",
    "\n",
    "During fermentation, the skins of red grapes release chloride ions into the juice, leading to higher chloride concentrations in red wines. The final level is also influenced by grape variety and the mineral composition of the vineyard soil.\n",
    "\n",
    "In contrast, white wines are typically produced by pressing the grapes and separating the juice from the skins before fermentation. This process limits skin contact and results in naturally lower chloride levels compared to red wines.\n"
   ]
  },
  {
   "cell_type": "code",
   "execution_count": null,
   "id": "02d14f52-da1d-4fa9-aacf-de2a89e5184e",
   "metadata": {},
   "outputs": [],
   "source": [
    "# Updating the decision table for chlorides\n",
    "add_outlier_decision(\"white\", \"chlorides\", length(find_outliers(white_wine_clean$chlorides)),\n",
    "                     \"Legal thresholds were enforced during preprocessing. No further filtering was required.\",\n",
    "                     \"KEEP\")"
   ]
  },
  {
   "cell_type": "markdown",
   "id": "5bbc2226-cd5c-4ec5-b6ce-043965617a8e",
   "metadata": {},
   "source": [
    "## 3.6 Free sulfur dioxide\n",
    "\n",
    "\n",
    "**Definition**  \n",
    "Free sulfur dioxide (FSO₂) is a critical compound in winemaking, used to protect wine from microbial spoilage and oxidation. Its efficacy is pH-dependent, and it plays a central role in wine stability and shelf life.\n",
    "\n",
    "**Summary Statistics**  \n",
    "FSO₂ values in the white wine dataset range from 2.0 to 146.5 mg/L. The distribution is skewed right, with a median of 33.0 and a mean of 34.8.\n",
    "\n",
    "**Regulatory Context**  \n",
    "According to EU guidelines, the legal maximum for FSO₂ is 160 mg/L. Additionally, any wine containing more than 10 mg/L of total SO₂ must be labeled with “contains sulphites.”\n",
    "\n",
    "**Decision**  \n",
    "All values fall below the legal limit and are chemically plausible. No additional statistical filtering was applied.  \n",
    "KEEP\n"
   ]
  },
  {
   "cell_type": "code",
   "execution_count": null,
   "id": "2102f7e0-3129-47d4-a6ab-7b874efe67b0",
   "metadata": {},
   "outputs": [],
   "source": [
    "# Violin + Boxlot for free sulfur dioxide\n",
    "ggplot(white_wine_clean, aes(x = \"\", y = free_sulfur_dioxide)) +\n",
    "  geom_violin(fill = \"skyblue3\", color = \"black\", alpha = 0.8) +\n",
    "  geom_boxplot(width = 0.1, outlier.color = \"black\", alpha = 0.5) +\n",
    "\n",
    "  # Media e mediana\n",
    "  stat_summary(fun = mean, geom = \"point\", size = 3, shape = 20, color = \"gold\") +\n",
    "  stat_summary(fun = median, geom = \"point\", size = 4, shape = 18, color = \"black\") +\n",
    "\n",
    "  # Annotazioni per min e max\n",
    "  annotate(\"text\", x = 1, y = min(white_wine_clean$free_sulfur_dioxide), \n",
    "           label = paste(\"Min:\", min(white_wine_clean$free_sulfur_dioxide)), \n",
    "           vjust = 1.8, color = \"gray30\", size = 3) +\n",
    "  annotate(\"text\", x = 1, y = max(white_wine_clean$free_sulfur_dioxide), \n",
    "           label = paste(\"Max:\", max(white_wine_clean$free_sulfur_dioxide)), \n",
    "           vjust = -0.6, color = \"gray30\", size = 3) +\n",
    "\n",
    "  # Linea limite legale\n",
    "  geom_hline(yintercept = 160, color = \"red\", linetype = \"dashed\", linewidth = 0.8) +\n",
    "  annotate(\"text\", x = 1, y = 160, label = \"Legal limit: 160 mg/L\", \n",
    "           vjust = -1, hjust = 1.1, color = \"red\", size = 3.2) +\n",
    "\n",
    "  labs(\n",
    "    title = \"Distribution of Free Sulfur Dioxide in White Wine\",\n",
    "    subtitle = \"All values fall below the legal threshold of 160 mg/L\",\n",
    "    x = \"\",\n",
    "    y = \"Free SO₂ (mg/L)\"\n",
    "  ) +\n",
    "  theme_minimal(base_size = 13) +\n",
    "  theme(\n",
    "    plot.title = element_text(face = \"bold\"),\n",
    "    plot.subtitle = element_text(size = 11),\n",
    "    axis.text.x = element_blank(),\n",
    "    axis.ticks.x = element_blank()\n",
    "  )\n"
   ]
  },
  {
   "cell_type": "code",
   "execution_count": null,
   "id": "4e9dcdb8-0be1-4d79-abbd-6aaf07adc851",
   "metadata": {},
   "outputs": [],
   "source": [
    "# a summary for free sulfur dioxide\n",
    "summary(white_wine_clean$free_sulfur_dioxide)"
   ]
  },
  {
   "cell_type": "code",
   "execution_count": null,
   "id": "d44f49bd-1102-4c39-b28d-3d0a81d889a0",
   "metadata": {},
   "outputs": [],
   "source": [
    "# Updating the decision table\n",
    "add_outlier_decision(\"white\", \"free_sulfur_dioxide\", length(find_outliers(white_wine_clean$free_sulfur_dioxide)),\n",
    "                     \"Legal thresholds were enforced during preprocessing. No further filtering was required.\",\n",
    "                     \"KEEP\")"
   ]
  },
  {
   "cell_type": "markdown",
   "id": "a7d901cc-198c-45c7-8c86-c673717db9b6",
   "metadata": {},
   "source": [
    "## 3.7 Total Sulfur Dioxide\n",
    "\n",
    "\n",
    "**Definition**  \n",
    "Total sulfur dioxide (SO₂) includes both free and bound forms of sulfur, and plays a vital role in preserving wine by preventing microbial growth and oxidative spoilage. Its management is particularly critical in white wine, where freshness and shelf life are highly valued.\n",
    "\n",
    "**Summary Statistics**  \n",
    "Values in the dataset range from 9.0 to 366.5 mg/L, with a median of 133.0 and a mean of 137.1. The distribution is right-skewed, with higher values remaining within plausible bounds.\n",
    "\n",
    "**Regulatory Context**  \n",
    "The OIV (International Organisation of Vine and Wine) sets a legal limit of 400 mg/L for total SO₂ in white wines. This threshold was enforced during preprocessing. All current values are within the legal range.\n",
    "\n",
    "**Decision**  \n",
    "No additional outlier filtering was required beyond the legal constraint. The observed distribution is chemically plausible and consistent with standard winemaking practices.  \n",
    "KEEP\n",
    "\n"
   ]
  },
  {
   "cell_type": "code",
   "execution_count": null,
   "id": "92324c6e-9c77-48e7-baad-d470fd957d72",
   "metadata": {},
   "outputs": [],
   "source": [
    "# Violin + boxplot for total sulfur dioxide\n",
    "ggplot(white_wine_clean, aes(x = \"\", y = total_sulfur_dioxide)) +\n",
    "  geom_violin(fill = \"lightgoldenrod2\", color = \"black\", alpha = 0.85) +\n",
    "  geom_boxplot(width = 0.1, outlier.color = \"black\", alpha = 0.4) +\n",
    "\n",
    "  # Media e mediana\n",
    "  stat_summary(fun = mean, geom = \"point\", shape = 20, size = 4, color = \"gold\") +\n",
    "  stat_summary(fun = median, geom = \"point\", shape = 18, size = 3, color = \"black\") +\n",
    "\n",
    "  # Annotazioni min/max\n",
    "  annotate(\"text\", x = 1, y = min(white_wine_clean$total_sulfur_dioxide), \n",
    "           label = paste(\"Min:\", min(white_wine_clean$total_sulfur_dioxide)), \n",
    "           vjust = 1.8, color = \"gray30\", size = 3) +\n",
    "  annotate(\"text\", x = 1, y = max(white_wine_clean$total_sulfur_dioxide), \n",
    "           label = paste(\"Max:\", max(white_wine_clean$total_sulfur_dioxide)), \n",
    "           vjust = -0.6, color = \"gray30\", size = 3) +\n",
    "\n",
    "  # Limite legale\n",
    "  geom_hline(yintercept = 400, color = \"red\", linetype = \"dashed\", linewidth = 0.8) +\n",
    "  annotate(\"text\", x = 1, y = 400, label = \"Legal limit: 400 mg/L\", \n",
    "           vjust = -1, hjust = 1.1, color = \"red\", size = 3.2) +\n",
    "\n",
    "  labs(\n",
    "    title = \"Distribution of Total Sulfur Dioxide in White Wine\",\n",
    "    subtitle = \"All values fall within the legal threshold of 400 mg/L\",\n",
    "    x = \"\",\n",
    "    y = \"Total SO₂ (mg/L)\"\n",
    "  ) +\n",
    "  theme_minimal(base_size = 13) +\n",
    "  theme(\n",
    "    plot.title = element_text(face = \"bold\"),\n",
    "    plot.subtitle = element_text(size = 11),\n",
    "    axis.text.x = element_blank(),\n",
    "    axis.ticks.x = element_blank()\n",
    "  )\n"
   ]
  },
  {
   "cell_type": "code",
   "execution_count": null,
   "id": "28eba301-a705-4a79-b29c-4d320b3421d4",
   "metadata": {},
   "outputs": [],
   "source": [
    "# Total sulfur dioxide summary\n",
    "summary(white_wine_clean$total_sulfur_dioxide)\n"
   ]
  },
  {
   "cell_type": "code",
   "execution_count": null,
   "id": "280cdb0f-950e-46a4-ae41-c849cc3f5fa2",
   "metadata": {},
   "outputs": [],
   "source": [
    "# Updating the decision table\n",
    "add_outlier_decision(\"white\", \"total_sulfur_dioxide\", length(find_outliers(white_wine_clean$total_sulfur_dioxide)),\n",
    "                     \"Legal thresholds were enforced during preprocessing. No further filtering was required.\",\n",
    "                     \"KEEP\")"
   ]
  },
  {
   "cell_type": "markdown",
   "id": "977b2188-815f-4b14-adf0-21e9f0626289",
   "metadata": {},
   "source": [
    "## 3.8 Density\n",
    "\n",
    "\n",
    "**Definition**  \n",
    "Wine density measures the concentration of dissolved substances such as sugars, acids, and alcohol. While not legally regulated, density serves as an important indicator of wine style and fermentation completeness.\n",
    "\n",
    "**Summary Statistics**  \n",
    "Values range from 0.9871 to 1.0390 g/cm³, with a median of 0.9935 and a mean of 0.9938. The distribution is right-skewed due to a small number of higher-density observations, likely reflecting sweeter wine styles.\n",
    "\n",
    "**Filtering Strategy**  \n",
    "To ensure consistency with the red wine dataset, and based on enological literature such as Michlovský’s work, a range of 0.990–1.003 g/cm³ was adopted. This window reflects the density of dry to semi-sweet wines under standard conditions.\n",
    "\n",
    "Extreme values outside this range were removed to preserve the analytical reliability of downstream comparisons.\n",
    "\n",
    "**Decision**  \n",
    "Density values below 0.990 and above 1.003 were removed.  \n",
    "REMOVE (outside range 0.990–1.003)\n",
    "\n",
    "*A violin plot of the filtered density variable supports this decision: most observations are tightly concentrated within the plausible range, while extreme high-density values appear as rare and isolated. Their removal improves overall dataset integrity.*\n"
   ]
  },
  {
   "cell_type": "code",
   "execution_count": null,
   "id": "93702a21-d0b0-42e1-82dd-d5977391f66a",
   "metadata": {},
   "outputs": [],
   "source": [
    "# Outliers Analysis: a violin/boxplot that shows the distribution of density in white wine.\n",
    "ggplot(white_wine, aes(x = \"\", y = density)) +\n",
    "  geom_violin(fill = \"slategray2\", color = \"black\", alpha = 0.8) +\n",
    "  geom_boxplot(width = 0.1, outlier.color = \"black\", alpha = 0.4) +\n",
    "  \n",
    "  # Media e mediana\n",
    "  stat_summary(fun = mean, geom = \"point\", shape = 20, size = 4, color = \"gold\") +\n",
    "  stat_summary(fun = median, geom = \"point\", shape = 18, size = 3, color = \"black\") +\n",
    "\n",
    "  # Annotazioni min/max\n",
    "  annotate(\"text\", x = 1, y = min(white_wine_clean$density), \n",
    "           label = paste(\"Min:\", min(white_wine_clean$density)), \n",
    "           vjust = 1.8, color = \"gray30\", size = 3) +\n",
    "  annotate(\"text\", x = 1, y = max(white_wine_clean$density), \n",
    "           label = paste(\"Max:\", max(white_wine_clean$density)), \n",
    "           vjust = -0.6, color = \"gray30\", size = 3) +\n",
    "\n",
    "  # Limiti imposti\n",
    "  geom_hline(yintercept = 0.990, color = \"red\", linetype = \"dotted\") +\n",
    "  geom_hline(yintercept = 1.003, color = \"red\", linetype = \"dotted\") +\n",
    "  annotate(\"text\", x = 1, y = 0.990, label = \"Min threshold\", vjust = -1, color = \"red\", size = 3.2) +\n",
    "  annotate(\"text\", x = 1, y = 1.003, label = \"Max threshold\", vjust = -1, color = \"red\", size = 3.2) +\n",
    "\n",
    "  labs(\n",
    "    title = \"Density Distribution in White Wine with limit threholds Before cleaning\",\n",
    "    subtitle = \"Outliers below 0.990 and above 1.003 removed for consistency with red wine\",\n",
    "    x = \"\",\n",
    "    y = \"Density (g/cm³)\"\n",
    "  ) +\n",
    "  theme_minimal(base_size = 13) +\n",
    "  theme(\n",
    "    plot.title = element_text(face = \"bold\"),\n",
    "    plot.subtitle = element_text(size = 11),\n",
    "    axis.text.x = element_blank(),\n",
    "    axis.ticks.x = element_blank()\n",
    "  )\n"
   ]
  },
  {
   "cell_type": "code",
   "execution_count": null,
   "id": "a264a118-91b0-416b-95d1-7b79d6984c4d",
   "metadata": {},
   "outputs": [],
   "source": [
    "summary(white_wine_clean$density)"
   ]
  },
  {
   "cell_type": "code",
   "execution_count": null,
   "id": "9d5d7a4e-040a-4aa4-a83b-056c8edaf7ff",
   "metadata": {},
   "outputs": [],
   "source": [
    "# removing density outliers, applying the same rule than for the red_wine dataset\n",
    "white_wine_clean <- filter_legal_range(white_wine_clean, \"density\", min_val = 0.990, max_val = 1.003)\n"
   ]
  },
  {
   "cell_type": "code",
   "execution_count": null,
   "id": "c7a59f09",
   "metadata": {},
   "outputs": [],
   "source": [
    "# The same violi/boxplot After aplying limits for density in white wine\n",
    "ggplot(white_wine_clean, aes(x = \"\", y = density)) +\n",
    "  geom_violin(fill = \"royalblue\", color = \"black\", alpha = 0.8) +\n",
    "  geom_boxplot(width = 0.1, outlier.color = \"black\", alpha = 0.4) +\n",
    "  \n",
    "  # Media e mediana\n",
    "  stat_summary(fun = mean, geom = \"point\", shape = 20, size = 4, color = \"gold\") +\n",
    "  stat_summary(fun = median, geom = \"point\", shape = 18, size = 3, color = \"black\") +\n",
    "\n",
    "  # Annotazioni min/max\n",
    "  annotate(\"text\", x = 1, y = min(white_wine_clean$density), \n",
    "           label = paste(\"Min:\", min(white_wine_clean$density)), \n",
    "           vjust = 1.8, color = \"gray30\", size = 3) +\n",
    "  annotate(\"text\", x = 1, y = max(white_wine_clean$density), \n",
    "           label = paste(\"Max:\", max(white_wine_clean$density)), \n",
    "           vjust = -0.6, color = \"gray30\", size = 3) +\n",
    "\n",
    "  # Limiti imposti\n",
    "  geom_hline(yintercept = 0.990, color = \"red\", linetype = \"dotted\") +\n",
    "  geom_hline(yintercept = 1.003, color = \"red\", linetype = \"dotted\") +\n",
    "  annotate(\"text\", x = 1, y = 0.990, label = \"Min threshold\", vjust = -1, color = \"red\", size = 3.2) +\n",
    "  annotate(\"text\", x = 1, y = 1.003, label = \"Max threshold\", vjust = -1, color = \"red\", size = 3.2) +\n",
    "\n",
    "  labs(\n",
    "    title = \"Density Distribution in White Wine  After cleaning\",\n",
    "    subtitle = \"Outliers below 0.990 and above 1.003 removed for consistency\",\n",
    "    x = \"\",\n",
    "    y = \"Density (g/cm³)\"\n",
    "  ) +\n",
    "  theme_minimal(base_size = 13) +\n",
    "  theme(\n",
    "    plot.title = element_text(face = \"bold\"),\n",
    "    plot.subtitle = element_text(size = 11),\n",
    "    axis.text.x = element_blank(),\n",
    "    axis.ticks.x = element_blank()\n",
    "  )"
   ]
  },
  {
   "cell_type": "code",
   "execution_count": null,
   "id": "fe99b95b-cd77-46ce-b3e1-efa040e010d3",
   "metadata": {},
   "outputs": [],
   "source": [
    "# updating the decision table\n",
    "add_outlier_decision(\"white\", \"density\", length(find_outliers(white_wine_clean$density)),\n",
    "                     \"Values out of range.\",\n",
    "                     \"REMOVE\")\n"
   ]
  },
  {
   "cell_type": "markdown",
   "id": "9319daf8-939e-49a4-88cd-6288d86d8a73",
   "metadata": {},
   "source": [
    "## 3.9 pH\n",
    "\n",
    "\n",
    "**Definition**  \n",
    "The pH level in wine reflects its overall acidity, which affects stability, color, microbial resistance, and mouthfeel. While the typical pH range for white wines tends to be slightly lower than for reds, values can vary depending on grape variety, climate, and production style.\n",
    "\n",
    "**Summary Statistics**  \n",
    "pH values range from 2.72 to 3.82, with a median of 3.18. The distribution is symmetric and falls within a chemically plausible range.\n",
    "\n",
    "**Refinement: pH Outliers Reconsidered**  \n",
    "In the initial data cleaning phase, observations with pH values below 3.0 and above 4.0 were removed from the red wine dataset based on enological expectations. However, upon further review, this approach was found to be too restrictive.\n",
    "\n",
    "Although pH values above 4.0 can lead to chemical instability and those below 2.9 are uncommon, they are not inherently implausible. Variability can result from grape characteristics, winemaking technique, and even the timing of measurement (e.g., pre- vs. post-fermentation).\n",
    "\n",
    "A multivariate review confirmed that even boundary values were chemically consistent with related variables such as sulphates, alcohol, and sulfur dioxide. Therefore, the filtering rule was removed, and all pH values within the physiologically accepted range (2.7–4.0) were retained.\n",
    "\n",
    "**Decision**  \n",
    "The revised approach ensures the dataset accurately reflects natural wine variation while preserving analytical robustness.  \n",
    "KEEP\n"
   ]
  },
  {
   "cell_type": "code",
   "execution_count": null,
   "id": "874c8b10-e44d-44a7-8e91-f1c2296642f9",
   "metadata": {},
   "outputs": [],
   "source": [
    "# a violinplot for pH distribution\n",
    "ggplot(white_wine_clean, aes(x = \"\", y = pH)) +\n",
    "  geom_violin(fill = \"palegreen3\", color = \"black\", alpha = 0.8) +\n",
    "  geom_boxplot(width = 0.1, outlier.color = \"black\", alpha = 0.4) +\n",
    "\n",
    "  # Media e mediana\n",
    "  stat_summary(fun = mean, geom = \"point\", shape = 20, size = 4, color = \"gold\") +\n",
    "  stat_summary(fun = median, geom = \"point\", shape = 18, size = 3, color = \"black\") +\n",
    "\n",
    "  # Annotazioni min/max\n",
    "  annotate(\"text\", x = 1, y = min(white_wine_clean$pH), \n",
    "           label = paste(\"Min:\", min(white_wine_clean$pH)), \n",
    "           vjust = 1.8, color = \"gray30\", size = 3) +\n",
    "  annotate(\"text\", x = 1, y = max(white_wine_clean$pH), \n",
    "           label = paste(\"Max:\", max(white_wine_clean$pH)), \n",
    "           vjust = -0.6, color = \"gray30\", size = 3) +\n",
    "\n",
    "  # Limiti precedentemente applicati (ora solo di riferimento)\n",
    "  geom_hline(yintercept = 3.0, color = \"red\", linetype = \"dashed\", linewidth = 0.6) +\n",
    "  geom_hline(yintercept = 3.5, color = \"red\", linetype = \"dashed\", linewidth = 0.6) +\n",
    "  annotate(\"text\", x = 1, y = 3.0, label = \"General Production Values for White Wine\", vjust = -1, color = \"red\", size = 3) +\n",
    "  annotate(\"text\", x = 1, y = 3.5, label = \"General Production Values for White Wine\", vjust = -1, color = \"red\", size = 3) +\n",
    "\n",
    "  labs(\n",
    "    title = \"pH Distribution in White Wine\",\n",
    "    subtitle = \"Values range from 2.72 to 3.82; reference lines show previously applied thresholds\",\n",
    "    x = \"\",\n",
    "    y = \"pH\"\n",
    "  ) +\n",
    "  theme_minimal(base_size = 13) +\n",
    "  theme(\n",
    "    plot.title = element_text(face = \"bold\"),\n",
    "    plot.subtitle = element_text(size = 11),\n",
    "    axis.text.x = element_blank(),\n",
    "    axis.ticks.x = element_blank()\n",
    "  )\n"
   ]
  },
  {
   "cell_type": "code",
   "execution_count": null,
   "id": "17115549-d4c9-433e-bb54-63904bd87f89",
   "metadata": {},
   "outputs": [],
   "source": [
    "# the summary for pH\n",
    "summary(white_wine_clean$pH)\n"
   ]
  },
  {
   "cell_type": "code",
   "execution_count": null,
   "id": "84e60f4b-a65e-4922-aa1c-d59ca4b40173",
   "metadata": {},
   "outputs": [],
   "source": [
    "# Comparing red and white wine\n",
    "\n",
    "# Step 1: uniting the datasets \n",
    "red_labeled <- red_wine_clean %>% mutate(wine_type = \"Red\")\n",
    "white_labeled <- white_wine_clean %>% mutate(wine_type = \"White\")\n",
    "combined_wines <- bind_rows(red_labeled, white_labeled)\n"
   ]
  },
  {
   "cell_type": "code",
   "execution_count": null,
   "id": "e7fcbcd4-4578-496f-a016-fbb8b47d4c5a",
   "metadata": {},
   "outputs": [],
   "source": [
    "#Step 2: comparative plot\n",
    "ggplot(combined_wines, aes(x = wine_type, y = pH, fill = wine_type)) +\n",
    "  geom_violin(color = \"black\", alpha = 0.6) +\n",
    "  geom_boxplot(alpha = 0.4, outlier.color = \"black\", width = 0.4) +\n",
    "  scale_fill_manual(values = c(\"Red\" = \"firebrick\", \"White\" = \"darkseagreen3\")) +\n",
    "\n",
    "  # Linee guida vecchi limiti\n",
    "  geom_hline(yintercept = 3.0, linetype = \"dashed\", color = \"red\", size = 0.5) +\n",
    "  geom_hline(yintercept = 3.8, linetype = \"dashed\", color = \"red\", size = 0.5) +\n",
    "  annotate(\"text\", x = 1.5, y = 3.0, label = \"Min accepted pH values for Production\", vjust = -1, color = \"red\", size = 3) +\n",
    "  annotate(\"text\", x = 1.5, y = 3.8, label = \"Max accepted pH values for Production\", vjust = -1, color = \"red\", size = 3) +\n",
    "\n",
    "  labs(\n",
    "    title = \"pH Comparison in Red vs White Wine\",\n",
    "    subtitle = \"White wines show lower pH (higher acidity); all values now retained within plausible range\",\n",
    "    x = \"Wine Type\",\n",
    "    y = \"pH\"\n",
    "  ) +\n",
    "  theme_minimal(base_size = 13) +\n",
    "  theme(\n",
    "    plot.title = element_text(face = \"bold\"),\n",
    "    plot.subtitle = element_text(size = 11),\n",
    "    legend.position = \"none\"\n",
    "  ) +\n",
    "  annotate(\"text\", x = 1.5, y = 2.6, \n",
    "    label = \"All retained values fall within chemically plausible range\", \n",
    "    color = \"gray30\", size = 3.2, fontface = \"italic\")\n",
    "\n"
   ]
  },
  {
   "cell_type": "code",
   "execution_count": null,
   "id": "7ac25157-2cf0-47d8-982a-f05efb0af45d",
   "metadata": {},
   "outputs": [],
   "source": [
    "# Updating the decisiont table for pH\n",
    "add_outlier_decision(\"white\", \"pH\", length(find_outliers(white_wine_clean$pH)),\n",
    "                     \"Plausible values.\",\n",
    "                     \"KEEP\")\n"
   ]
  },
  {
   "cell_type": "markdown",
   "id": "6ca21f7a-1b58-4907-9e40-d3b111ccf60d",
   "metadata": {},
   "source": [
    "## 3.10 Sulphates\n",
    "\n",
    "\n",
    "**Definition**  \n",
    "Sulphates contribute to microbial stability and play an important role in mouthfeel and structural perception. In white wines, moderate levels enhance freshness and help preserve sensory balance.\n",
    "\n",
    "**Summary Statistics**  \n",
    "Values range from 0.22 to 1.08 g/L, with a median of 0.47 g/L. The distribution is slightly right-skewed, with most observations falling below 0.55 g/L.\n",
    "\n",
    "**Domain Interpretation**  \n",
    "Although a few entries exceed 1.0 g/L, they are chemically plausible and may reflect stylistic or regional winemaking preferences—such as mineral-driven profiles or additional sulphur additions at bottling.\n",
    "\n",
    "No anomalies or inconsistencies were identified in association with these values.\n",
    "\n",
    "**Decision**  \n",
    "No outlier filtering was applied, as all values fall within a reasonable and enologically justifiable range.  \n",
    "KEEP\n"
   ]
  },
  {
   "cell_type": "code",
   "execution_count": null,
   "id": "e578d2df-9b60-4ba3-ac41-1a0b27989038",
   "metadata": {},
   "outputs": [],
   "source": [
    "# Using a violin - boxplot for sulphates distribution in white wine\n",
    "ggplot(white_wine_clean, aes(x = \"\", y = sulphates)) +\n",
    "  geom_violin(fill = \"lightblue3\", color = \"black\", alpha = 0.8) +\n",
    "  geom_boxplot(width = 0.1, outlier.color = \"black\", alpha = 0.4) +\n",
    "\n",
    "  # Media e mediana\n",
    "  stat_summary(fun = mean, geom = \"point\", shape = 20, size = 4, color = \"gold\") +\n",
    "  stat_summary(fun = median, geom = \"point\", shape = 18, size = 3, color = \"black\") +\n",
    "\n",
    "  # Annotazioni min/max\n",
    "  annotate(\"text\", x = 1, y = min(white_wine_clean$sulphates), \n",
    "           label = paste(\"Min:\", min(white_wine_clean$sulphates)), \n",
    "           vjust = 1.8, color = \"gray30\", size = 3) +\n",
    "  annotate(\"text\", x = 1, y = max(white_wine_clean$sulphates), \n",
    "           label = paste(\"Max:\", max(white_wine_clean$sulphates)), \n",
    "           vjust = -0.6, color = \"gray30\", size = 3) +\n",
    "\n",
    "  labs(\n",
    "    title = \"Distribution of Sulphates in White Wine\",\n",
    "    subtitle = \"Right-skewed distribution with few high-value outliers\",\n",
    "    x = \"\",\n",
    "    y = \"Sulphates (g/L)\"\n",
    "  ) +\n",
    "  theme_minimal(base_size = 13) +\n",
    "  theme(\n",
    "    plot.title = element_text(face = \"bold\"),\n",
    "    plot.subtitle = element_text(size = 11),\n",
    "    axis.text.x = element_blank(),\n",
    "    axis.ticks.x = element_blank()\n",
    "  )\n"
   ]
  },
  {
   "cell_type": "code",
   "execution_count": null,
   "id": "6b22566a-73e2-4ba5-bf3b-c65207660f96",
   "metadata": {},
   "outputs": [],
   "source": [
    "# Summary for sulphates in white wine\n",
    "summary(white_wine_clean$sulphates)\n"
   ]
  },
  {
   "cell_type": "code",
   "execution_count": null,
   "id": "ef4c5256-3dab-4b1b-ac07-b4bb75d38f1a",
   "metadata": {},
   "outputs": [],
   "source": [
    "# Updating the decion table for sulphates\n",
    "add_outlier_decision(\"white\", \"sulphates\", length(find_outliers(white_wine_clean$sulphates)),\n",
    "                     \"Right-skewed but plausible values; reflects stylistic variation in sulphate use.\",\n",
    "                     \"KEEP\")\n"
   ]
  },
  {
   "cell_type": "markdown",
   "id": "f2edfbd8-e595-497b-9d43-d354aa8983ca",
   "metadata": {},
   "source": [
    "## 3.11 Alcohol\n",
    "\n",
    "\n",
    "**Definition**  \n",
    "Alcohol content in wine is determined by the sugar concentration in grapes and fermentation efficiency. In white wines, levels typically range between 8.5% and 13.5% ABV, although some sweeter or fortified styles may exceed this.\n",
    "\n",
    "**Summary Statistics**  \n",
    "Alcohol levels in the dataset range from 8.00% to 14.05%, with a median of 10.30% and a mean of 10.42%. The distribution is symmetric and consistent with standard white wine profiles.\n",
    "\n",
    "**Domain Interpretation**  \n",
    "While a few values exceed 14%, none violate legal thresholds, and no implausible combinations were observed with variables such as residual sugar or density. These higher levels are plausible and may reflect stylistic diversity or market-driven preferences for bolder white wines.\n",
    "\n",
    "**Decision**  \n",
    "All alcohol values are retained as chemically plausible and legally compliant.  \n",
    "KEEP\n"
   ]
  },
  {
   "cell_type": "code",
   "execution_count": null,
   "id": "4275a90c-3528-49b7-bfc4-feec3f01a6a3",
   "metadata": {},
   "outputs": [],
   "source": [
    "# A violin plot for the distribution of alcohol in white wine\n",
    "ggplot(white_wine_clean, aes(x = \"\", y = alcohol)) +\n",
    "  geom_violin(fill = \"bisque3\", color = \"black\", alpha = 0.8) +\n",
    "  geom_boxplot(width = 0.1, outlier.color = \"black\", alpha = 0.4) +\n",
    "  stat_summary(fun = mean, geom = \"point\", shape = 20, size = 4, color = \"gold\") +\n",
    "  stat_summary(fun = median, geom = \"point\", shape = 18, size = 3, color = \"black\") +\n",
    "  annotate(\"text\", x = 1, y = min(white_wine_clean$alcohol),\n",
    "           label = paste(\"Min:\", min(white_wine_clean$alcohol)),\n",
    "           vjust = 1.8, color = \"gray30\", size = 3) +\n",
    "  annotate(\"text\", x = 1, y = max(white_wine_clean$alcohol),\n",
    "           label = paste(\"Max:\", max(white_wine_clean$alcohol)),\n",
    "           vjust = -0.6, color = \"gray30\", size = 3) +\n",
    "  labs(\n",
    "    title = \"Distribution of Alcohol in White Wine\",\n",
    "    subtitle = \"Values range across dry and semi-sweet styles; high-end values retained\",\n",
    "    x = \"\",\n",
    "    y = \"Alcohol (% vol)\"\n",
    "  ) +\n",
    "  theme_minimal(base_size = 13)\n"
   ]
  },
  {
   "cell_type": "code",
   "execution_count": null,
   "id": "f27dca2c-dd97-4381-8c09-28acf1506947",
   "metadata": {},
   "outputs": [],
   "source": [
    "# Alcohol summary\n",
    "summary(white_wine_clean$alcohol)"
   ]
  },
  {
   "cell_type": "code",
   "execution_count": null,
   "id": "c05cd246-a8ca-4e8e-ae94-f5874c7ab2c5",
   "metadata": {},
   "outputs": [],
   "source": [
    "# Updating the decision table for alcohol\n",
    "add_outlier_decision(\"white\", \"alcohol\", length(find_outliers(white_wine_clean$alcohol)),\n",
    "                     \"Legal thresholds were enforced during preprocessing. No further filtering was required.\",\n",
    "                     \"KEEP\")\n"
   ]
  },
  {
   "cell_type": "markdown",
   "id": "2d143a5b-d1f1-4946-a9de-ff64b8defe56",
   "metadata": {},
   "source": [
    "## 3.12 Quality\n",
    "\n",
    "\n",
    "**Definition**  \n",
    "Wine quality scores represent expert evaluations based on sensory characteristics such as aroma, balance, structure, and typicity. Though subjective, they are often used as targets in predictive modeling and benchmarking analyses.\n",
    "\n",
    "**Summary Statistics**  \n",
    "Values range from 3 to 9, with a median of 6.0 and a mean of 5.80. The distribution is centered, with most observations falling between 5 and 6.\n",
    "\n",
    "**Decision**  \n",
    "All values are valid and essential for subsequent modeling or analysis. No filtering was applied.  \n",
    "KEEP\n"
   ]
  },
  {
   "cell_type": "code",
   "execution_count": null,
   "id": "a55a3af4-26f5-43e5-be83-c4eec1143414",
   "metadata": {},
   "outputs": [],
   "source": [
    "# Visuals for distribution of quality in white wine\n",
    "ggplot(white_wine_clean, aes(x = \"\", y = quality)) +\n",
    "  geom_violin(fill = \"khaki3\", color = \"black\", alpha = 0.9) +\n",
    "  geom_boxplot(width = 0.1, outlier.color = \"black\", alpha = 0.5) +\n",
    "  stat_summary(fun = mean, geom = \"point\", shape = 20, size = 4, color = \"gold\") +\n",
    "  stat_summary(fun = median, geom = \"point\", shape = 18, size = 3, color = \"black\") +\n",
    "  annotate(\"text\", x = 1, y = min(white_wine_clean$quality),\n",
    "           label = paste(\"Min:\", min(white_wine_clean$quality)),\n",
    "           vjust = 1.8, color = \"gray30\", size = 3) +\n",
    "  annotate(\"text\", x = 1, y = max(white_wine_clean$quality),\n",
    "           label = paste(\"Max:\", max(white_wine_clean$quality)),\n",
    "           vjust = -0.6, color = \"gray30\", size = 3) +\n",
    "  labs(\n",
    "    title = \"Distribution of Quality Ratings in White Wine\",\n",
    "    subtitle = \"Expert-assigned values from 3 to 9; retained as-is for modeling purposes\",\n",
    "    x = \"\",\n",
    "    y = \"Quality Score\"\n",
    "  ) +\n",
    "  theme_minimal(base_size = 13)\n"
   ]
  },
  {
   "cell_type": "code",
   "execution_count": null,
   "id": "bf95496e-80a4-4795-b243-146583598e25",
   "metadata": {},
   "outputs": [],
   "source": [
    "# Summary for quality in white wine\n",
    "summary(white_wine_clean$quality)\n"
   ]
  },
  {
   "cell_type": "code",
   "execution_count": null,
   "id": "26de00ff-680c-489a-8e79-26d055704ba1",
   "metadata": {},
   "outputs": [],
   "source": [
    "# Last point for the decition table in white wine\n",
    "add_outlier_decision(\"white\", \"quality\", length(find_outliers(white_wine_clean$quality)),\n",
    "                     \"Subjective aggregate assessment.\",\n",
    "                     \"KEEP\")\n"
   ]
  },
  {
   "cell_type": "markdown",
   "id": "ba4784c0-424d-49f3-ac48-40bb9b589fb8",
   "metadata": {},
   "source": [
    "## 3.13 Comparative Decision Table"
   ]
  },
  {
   "cell_type": "markdown",
   "id": "0b494c6e",
   "metadata": {},
   "source": [
    "This consolidated decision table summarizes all data cleaning choices applied to both red and white Vinho Verde datasets.  \n",
    "Each decision was based on regulatory compliance, chemical plausibility, and visual/multivariate analysis.\n"
   ]
  },
  {
   "cell_type": "markdown",
   "id": "6f5c0228",
   "metadata": {},
   "source": [
    "**Decision Table – Red & White Wine**\n",
    "\n",
    "| Variable               | Dataset      | Outliers Detected | Reason                                                             | Decision       |\n",
    "|------------------------|--------------|-------------------|--------------------------------------------------------------------|----------------|\n",
    "| Fixed Acidity          | Red & White  | Yes               | High values plausible in cool-climate or stylistic wines           | KEEP           |\n",
    "| Volatile Acidity       | Red & White  | Yes               | Legal limit respected; stylistic and spontaneous fermentation cases| KEEP           |\n",
    "| Residual Sugar         | Red & White  | Yes               | Sweet wine profiles confirmed via alcohol & density consistency    | KEEP           |\n",
    "| Chlorides              | Red & White  | No                | All values below legal/preventive threshold                        | KEEP           |\n",
    "| Free Sulfur Dioxide    | Red & White  | No                | Values < 160 mg/L; chemically stable                               | KEEP           |\n",
    "| Total Sulfur Dioxide   | Red & White  | Yes               | Legal threshold applied (150/200 mg/L)                             | KEEP |\n",
    "| Density                | Red & White  | Yes               | Values outside 0.990–1.003 removed for physical plausibility       | REMOVE         |\n",
    "| pH                     | Red & White  | Yes (initially)   | Reconsidered; no implausible values after multivariate review      | KEEP           |\n",
    "| Sulphates              | Red & White  | Yes               | High values chemically plausible; no anomalous cases               | KEEP           |\n",
    "| Alcohol                | Red & White  | Yes               | High/low values plausible, no legal violation                      | KEEP           |\n",
    "| Quality                | Red & White  | No                | All values valid for modelling/interpretation                      | KEEP           |\n",
    "\n",
    "**Note**:  \n",
    "This decision table includes both red and white wine datasets. It does **not reflect the initial removals based on legal thresholds**, which were enforced uniformly during preprocessing.  \n",
    "Outlier detection was conducted post-cleaning, and all decisions were supported by visualizations, chemical reasoning, or multivariate consistency checks.\n"
   ]
  },
  {
   "cell_type": "markdown",
   "id": "a0d347ad",
   "metadata": {},
   "source": [
    "# 4 Final Remarks – Data Cleaning Phase\n",
    "\n",
    "This cleaning process was built step by step, with a close look at each variable—across both red and white wines.  \n",
    "Legal thresholds were applied upfront, but what followed was an individual review of every outlier, not just by the numbers but with a chemical and contextual lens.\n",
    "\n",
    "Where needed, values were removed—especially when clearly outside plausible physical or enological ranges. But many other cases, initially flagged, turned out to reflect stylistic choices, fermentation practices, or just natural diversity. Those were kept.\n",
    "\n",
    "The idea was never to force a tidy dataset, but to preserve what made sense and let go of what didn’t. What’s left are two datasets that are coherent, chemically sound, and closer to what real-world wine data often looks like: not perfect, but meaningful.\n",
    "\n",
    "They’re now ready for the next phase—be it modeling, exploratory visuals, or comparing how R and Python handle the same cleaning tasks.\n",
    "\n",
    "Because cleaning isn’t just technical—it’s about reading the data for what it really is, and making informed decisions along the way.\n"
   ]
  },
  {
   "cell_type": "markdown",
   "id": "6904d5a6",
   "metadata": {},
   "source": [
    "---\n",
    "\n",
    "Author & Attribution\n",
    "\n",
    "Created by **Virginia Levy Abulafia**  \n",
    "✉️ [virginiayonit@gmail.com](mailto:virginiayonit@gmail.com)  \n",
    "\n",
    "This notebook is part of a two-part project on data cleaning in R and Python.  \n",
    "Feel free to explore, fork, or reach out!\n"
   ]
  }
 ],
 "metadata": {
  "kernelspec": {
   "display_name": "R",
   "language": "R",
   "name": "ir"
  },
  "language_info": {
   "codemirror_mode": "r",
   "file_extension": ".r",
   "mimetype": "text/x-r-source",
   "name": "R",
   "pygments_lexer": "r",
   "version": "4.4.2"
  },
  "toc": {
   "base_numbering": 1,
   "nav_menu": {},
   "number_sections": false,
   "sideBar": true,
   "skip_h1_title": false,
   "title_cell": "Table of Contents",
   "title_sidebar": "Contents",
   "toc_cell": false,
   "toc_position": {
    "height": "373.542px",
    "left": "20px",
    "top": "183.837px",
    "width": "193.125px"
   },
   "toc_section_display": true,
   "toc_window_display": true
  }
 },
 "nbformat": 4,
 "nbformat_minor": 5
}
